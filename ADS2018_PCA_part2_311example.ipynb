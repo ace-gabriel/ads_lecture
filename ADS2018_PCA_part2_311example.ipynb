{
 "cells": [
  {
   "cell_type": "markdown",
   "metadata": {},
   "source": [
    "# Problem example\n",
    "\n",
    "Model economic characteristics of urban neighborhoods (zip code areas), such as  \n",
    "**income, unemployment or average real estate prices using the structure of 311 complains**  \n",
    "as a signature of social activity.\n",
    "\n",
    "[Wang L, Qian C, Kats P, Kontokosta C, Sobolevsky, S. (2017) Structure of 311\n",
    "service requests as a signature of urban location. PloS ONE. 12(10), e0186314.]\n",
    "\n",
    "<img src=\"data/fig5.png\">\n",
    "\n",
    "<img src=\"data/fig2.png\">\n",
    "\n",
    "We see that complaining patterns cluster in space but are pretty different for different urban neighborhoods. While the clusters with distinctive complaining profiles are also distinctive in terms of demography and economic background.\n",
    "\n",
    "**What is we use the relative frequency of each of the 162 categories of complains as features to model target economic indicators accross NYC zip code areas?**\n",
    "\n",
    "What issues such a model might face?\n",
    "\n",
    "#### 311 service requests data.\n",
    "https://en.wikipedia.org/wiki/3-1-1\n",
    "\n",
    "3-1-1 is a special telephone number supported in many communities in Canada and the United States. The number provides access to non-emergency municipal services. The number format follows the N11 code for a group of short, special-purpose local numbers as designated in the North American Numbering Plan.\n",
    "The number 3-1-1 is intended in part to divert routine inquiries and non-urgent community concerns from the 9-1-1 number which is reserved for emergency service. A promotional website for 3-1-1 in Akron described the distinction as follows: \"Burning building? Call 9-1-1. Burning Question? Call 3-1-1.\""
   ]
  },
  {
   "cell_type": "code",
   "execution_count": 4,
   "metadata": {},
   "outputs": [],
   "source": [
    "#import modules we need to use for this session\n",
    "import pandas as pd\n",
    "import numpy as np\n",
    "%matplotlib inline\n",
    "import matplotlib.pyplot as plt\n",
    "from scipy import stats\n",
    "import statsmodels.formula.api as smf\n",
    "import statsmodels.api as sm\n",
    "from sklearn.linear_model import LinearRegression\n",
    "# PCA module\n",
    "from sklearn.decomposition import PCA\n",
    "from sklearn.cross_validation import train_test_split\n",
    "from mpl_toolkits.mplot3d import Axes3D\n",
    "from sklearn import datasets\n",
    "from sklearn import linear_model\n",
    "from sklearn import preprocessing"
   ]
  },
  {
   "cell_type": "markdown",
   "metadata": {},
   "source": [
    "### Load 311 data"
   ]
  },
  {
   "cell_type": "code",
   "execution_count": 6,
   "metadata": {},
   "outputs": [
    {
     "data": {
      "text/html": [
       "<div>\n",
       "<style scoped>\n",
       "    .dataframe tbody tr th:only-of-type {\n",
       "        vertical-align: middle;\n",
       "    }\n",
       "\n",
       "    .dataframe tbody tr th {\n",
       "        vertical-align: top;\n",
       "    }\n",
       "\n",
       "    .dataframe thead th {\n",
       "        text-align: right;\n",
       "    }\n",
       "</style>\n",
       "<table border=\"1\" class=\"dataframe\">\n",
       "  <thead>\n",
       "    <tr style=\"text-align: right;\">\n",
       "      <th></th>\n",
       "      <th>Zip</th>\n",
       "      <th>Complain</th>\n",
       "      <th>Count</th>\n",
       "    </tr>\n",
       "  </thead>\n",
       "  <tbody>\n",
       "    <tr>\n",
       "      <th>1</th>\n",
       "      <td>NaN</td>\n",
       "      <td>Adopt-A-Basket</td>\n",
       "      <td>5</td>\n",
       "    </tr>\n",
       "    <tr>\n",
       "      <th>2</th>\n",
       "      <td>10001</td>\n",
       "      <td>Adopt-A-Basket</td>\n",
       "      <td>1</td>\n",
       "    </tr>\n",
       "    <tr>\n",
       "      <th>3</th>\n",
       "      <td>10003</td>\n",
       "      <td>Adopt-A-Basket</td>\n",
       "      <td>1</td>\n",
       "    </tr>\n",
       "    <tr>\n",
       "      <th>4</th>\n",
       "      <td>10009</td>\n",
       "      <td>Adopt-A-Basket</td>\n",
       "      <td>1</td>\n",
       "    </tr>\n",
       "    <tr>\n",
       "      <th>5</th>\n",
       "      <td>10010</td>\n",
       "      <td>Adopt-A-Basket</td>\n",
       "      <td>1</td>\n",
       "    </tr>\n",
       "  </tbody>\n",
       "</table>\n",
       "</div>"
      ],
      "text/plain": [
       "     Zip        Complain  Count\n",
       "1    NaN  Adopt-A-Basket      5\n",
       "2  10001  Adopt-A-Basket      1\n",
       "3  10003  Adopt-A-Basket      1\n",
       "4  10009  Adopt-A-Basket      1\n",
       "5  10010  Adopt-A-Basket      1"
      ]
     },
     "execution_count": 6,
     "metadata": {},
     "output_type": "execute_result"
    }
   ],
   "source": [
    "data311 = pd.read_csv( 'HW3_ADS/aggr311.csv' , index_col=0 )\n",
    "data311.head()"
   ]
  },
  {
   "cell_type": "code",
   "execution_count": 7,
   "metadata": {},
   "outputs": [],
   "source": [
    "data311.Zip=pd.to_numeric(data311.Zip,errors='coerce')"
   ]
  },
  {
   "cell_type": "code",
   "execution_count": 8,
   "metadata": {},
   "outputs": [],
   "source": [
    "data311=data311.loc[(data311.Zip>=10000)&(data311.Zip<11500)] #take only NYC zip codes"
   ]
  },
  {
   "cell_type": "code",
   "execution_count": 9,
   "metadata": {},
   "outputs": [],
   "source": [
    "data311=pd.pivot_table(data311,index='Zip',columns='Complain',values='Count',fill_value=0)"
   ]
  },
  {
   "cell_type": "code",
   "execution_count": 10,
   "metadata": {},
   "outputs": [
    {
     "data": {
      "text/html": [
       "<div>\n",
       "<style scoped>\n",
       "    .dataframe tbody tr th:only-of-type {\n",
       "        vertical-align: middle;\n",
       "    }\n",
       "\n",
       "    .dataframe tbody tr th {\n",
       "        vertical-align: top;\n",
       "    }\n",
       "\n",
       "    .dataframe thead th {\n",
       "        text-align: right;\n",
       "    }\n",
       "</style>\n",
       "<table border=\"1\" class=\"dataframe\">\n",
       "  <thead>\n",
       "    <tr style=\"text-align: right;\">\n",
       "      <th>Complain</th>\n",
       "      <th>APPLIANCE</th>\n",
       "      <th>Adopt-A-Basket</th>\n",
       "      <th>Air Quality</th>\n",
       "      <th>Animal Abuse</th>\n",
       "      <th>Animal Facility - No Permit</th>\n",
       "      <th>Animal in a Park</th>\n",
       "      <th>Asbestos</th>\n",
       "      <th>BEST/Site Safety</th>\n",
       "      <th>Beach/Pool/Sauna Complaint</th>\n",
       "      <th>Bike Rack Condition</th>\n",
       "      <th>...</th>\n",
       "      <th>Unsanitary Pigeon Condition</th>\n",
       "      <th>Urinating in Public</th>\n",
       "      <th>Vacant Lot</th>\n",
       "      <th>Vending</th>\n",
       "      <th>Violation of Park Rules</th>\n",
       "      <th>Water Conservation</th>\n",
       "      <th>Water Quality</th>\n",
       "      <th>Water System</th>\n",
       "      <th>Window Guard</th>\n",
       "      <th>X-Ray Machine/Equipment</th>\n",
       "    </tr>\n",
       "    <tr>\n",
       "      <th>Zip</th>\n",
       "      <th></th>\n",
       "      <th></th>\n",
       "      <th></th>\n",
       "      <th></th>\n",
       "      <th></th>\n",
       "      <th></th>\n",
       "      <th></th>\n",
       "      <th></th>\n",
       "      <th></th>\n",
       "      <th></th>\n",
       "      <th></th>\n",
       "      <th></th>\n",
       "      <th></th>\n",
       "      <th></th>\n",
       "      <th></th>\n",
       "      <th></th>\n",
       "      <th></th>\n",
       "      <th></th>\n",
       "      <th></th>\n",
       "      <th></th>\n",
       "      <th></th>\n",
       "    </tr>\n",
       "  </thead>\n",
       "  <tbody>\n",
       "    <tr>\n",
       "      <th>10000.0</th>\n",
       "      <td>0</td>\n",
       "      <td>0</td>\n",
       "      <td>1</td>\n",
       "      <td>0</td>\n",
       "      <td>0</td>\n",
       "      <td>1</td>\n",
       "      <td>0</td>\n",
       "      <td>0</td>\n",
       "      <td>0</td>\n",
       "      <td>0</td>\n",
       "      <td>...</td>\n",
       "      <td>0</td>\n",
       "      <td>0</td>\n",
       "      <td>0</td>\n",
       "      <td>8</td>\n",
       "      <td>8</td>\n",
       "      <td>0</td>\n",
       "      <td>0</td>\n",
       "      <td>0</td>\n",
       "      <td>0</td>\n",
       "      <td>0</td>\n",
       "    </tr>\n",
       "    <tr>\n",
       "      <th>10001.0</th>\n",
       "      <td>0</td>\n",
       "      <td>1</td>\n",
       "      <td>90</td>\n",
       "      <td>0</td>\n",
       "      <td>0</td>\n",
       "      <td>1</td>\n",
       "      <td>20</td>\n",
       "      <td>36</td>\n",
       "      <td>1</td>\n",
       "      <td>1</td>\n",
       "      <td>...</td>\n",
       "      <td>3</td>\n",
       "      <td>0</td>\n",
       "      <td>2</td>\n",
       "      <td>51</td>\n",
       "      <td>5</td>\n",
       "      <td>5</td>\n",
       "      <td>2</td>\n",
       "      <td>366</td>\n",
       "      <td>0</td>\n",
       "      <td>0</td>\n",
       "    </tr>\n",
       "    <tr>\n",
       "      <th>10002.0</th>\n",
       "      <td>15</td>\n",
       "      <td>0</td>\n",
       "      <td>80</td>\n",
       "      <td>0</td>\n",
       "      <td>0</td>\n",
       "      <td>21</td>\n",
       "      <td>18</td>\n",
       "      <td>20</td>\n",
       "      <td>2</td>\n",
       "      <td>6</td>\n",
       "      <td>...</td>\n",
       "      <td>5</td>\n",
       "      <td>1</td>\n",
       "      <td>4</td>\n",
       "      <td>27</td>\n",
       "      <td>14</td>\n",
       "      <td>10</td>\n",
       "      <td>7</td>\n",
       "      <td>324</td>\n",
       "      <td>0</td>\n",
       "      <td>0</td>\n",
       "    </tr>\n",
       "    <tr>\n",
       "      <th>10003.0</th>\n",
       "      <td>15</td>\n",
       "      <td>1</td>\n",
       "      <td>143</td>\n",
       "      <td>0</td>\n",
       "      <td>2</td>\n",
       "      <td>44</td>\n",
       "      <td>24</td>\n",
       "      <td>13</td>\n",
       "      <td>2</td>\n",
       "      <td>2</td>\n",
       "      <td>...</td>\n",
       "      <td>7</td>\n",
       "      <td>11</td>\n",
       "      <td>2</td>\n",
       "      <td>54</td>\n",
       "      <td>25</td>\n",
       "      <td>12</td>\n",
       "      <td>5</td>\n",
       "      <td>318</td>\n",
       "      <td>0</td>\n",
       "      <td>0</td>\n",
       "    </tr>\n",
       "    <tr>\n",
       "      <th>10004.0</th>\n",
       "      <td>0</td>\n",
       "      <td>0</td>\n",
       "      <td>15</td>\n",
       "      <td>0</td>\n",
       "      <td>0</td>\n",
       "      <td>4</td>\n",
       "      <td>3</td>\n",
       "      <td>1</td>\n",
       "      <td>0</td>\n",
       "      <td>1</td>\n",
       "      <td>...</td>\n",
       "      <td>1</td>\n",
       "      <td>1</td>\n",
       "      <td>0</td>\n",
       "      <td>16</td>\n",
       "      <td>21</td>\n",
       "      <td>0</td>\n",
       "      <td>0</td>\n",
       "      <td>37</td>\n",
       "      <td>0</td>\n",
       "      <td>0</td>\n",
       "    </tr>\n",
       "  </tbody>\n",
       "</table>\n",
       "<p>5 rows × 162 columns</p>\n",
       "</div>"
      ],
      "text/plain": [
       "Complain  APPLIANCE  Adopt-A-Basket  Air Quality  Animal Abuse  \\\n",
       "Zip                                                              \n",
       "10000.0           0               0            1             0   \n",
       "10001.0           0               1           90             0   \n",
       "10002.0          15               0           80             0   \n",
       "10003.0          15               1          143             0   \n",
       "10004.0           0               0           15             0   \n",
       "\n",
       "Complain  Animal Facility - No Permit  Animal in a Park  Asbestos  \\\n",
       "Zip                                                                 \n",
       "10000.0                             0                 1         0   \n",
       "10001.0                             0                 1        20   \n",
       "10002.0                             0                21        18   \n",
       "10003.0                             2                44        24   \n",
       "10004.0                             0                 4         3   \n",
       "\n",
       "Complain  BEST/Site Safety  Beach/Pool/Sauna Complaint  Bike Rack Condition  \\\n",
       "Zip                                                                           \n",
       "10000.0                  0                           0                    0   \n",
       "10001.0                 36                           1                    1   \n",
       "10002.0                 20                           2                    6   \n",
       "10003.0                 13                           2                    2   \n",
       "10004.0                  1                           0                    1   \n",
       "\n",
       "Complain           ...             Unsanitary Pigeon Condition  \\\n",
       "Zip                ...                                           \n",
       "10000.0            ...                                       0   \n",
       "10001.0            ...                                       3   \n",
       "10002.0            ...                                       5   \n",
       "10003.0            ...                                       7   \n",
       "10004.0            ...                                       1   \n",
       "\n",
       "Complain  Urinating in Public  Vacant Lot  Vending  Violation of Park Rules  \\\n",
       "Zip                                                                           \n",
       "10000.0                     0           0        8                        8   \n",
       "10001.0                     0           2       51                        5   \n",
       "10002.0                     1           4       27                       14   \n",
       "10003.0                    11           2       54                       25   \n",
       "10004.0                     1           0       16                       21   \n",
       "\n",
       "Complain  Water Conservation  Water Quality  Water System  Window Guard  \\\n",
       "Zip                                                                       \n",
       "10000.0                    0              0             0             0   \n",
       "10001.0                    5              2           366             0   \n",
       "10002.0                   10              7           324             0   \n",
       "10003.0                   12              5           318             0   \n",
       "10004.0                    0              0            37             0   \n",
       "\n",
       "Complain  X-Ray Machine/Equipment  \n",
       "Zip                                \n",
       "10000.0                         0  \n",
       "10001.0                         0  \n",
       "10002.0                         0  \n",
       "10003.0                         0  \n",
       "10004.0                         0  \n",
       "\n",
       "[5 rows x 162 columns]"
      ]
     },
     "execution_count": 10,
     "metadata": {},
     "output_type": "execute_result"
    }
   ],
   "source": [
    "data311.head()"
   ]
  },
  {
   "cell_type": "code",
   "execution_count": 11,
   "metadata": {},
   "outputs": [],
   "source": [
    "list_311=list(data311.columns)"
   ]
  },
  {
   "cell_type": "code",
   "execution_count": 12,
   "metadata": {},
   "outputs": [
    {
     "data": {
      "text/plain": [
       "['APPLIANCE',\n",
       " 'Adopt-A-Basket',\n",
       " 'Air Quality',\n",
       " 'Animal Abuse',\n",
       " 'Animal Facility - No Permit',\n",
       " 'Animal in a Park',\n",
       " 'Asbestos',\n",
       " 'BEST/Site Safety',\n",
       " 'Beach/Pool/Sauna Complaint',\n",
       " 'Bike Rack Condition']"
      ]
     },
     "execution_count": 12,
     "metadata": {},
     "output_type": "execute_result"
    }
   ],
   "source": [
    "list_311[0:10]"
   ]
  },
  {
   "cell_type": "code",
   "execution_count": 13,
   "metadata": {},
   "outputs": [
    {
     "data": {
      "text/plain": [
       "264"
      ]
     },
     "execution_count": 13,
     "metadata": {},
     "output_type": "execute_result"
    }
   ],
   "source": [
    "len(data311)"
   ]
  },
  {
   "cell_type": "code",
   "execution_count": 14,
   "metadata": {},
   "outputs": [],
   "source": [
    "Total311=data311.sum(axis=1) #total 311 activity per zip code\n",
    "data311=data311.div(data311.sum(axis=1), axis=0) #normalize activity of various cathegories within zip code by total\n",
    "data311=data311.loc[Total311>100] #keep only those zip codes having sufficient activity"
   ]
  },
  {
   "cell_type": "code",
   "execution_count": 15,
   "metadata": {},
   "outputs": [
    {
     "data": {
      "text/plain": [
       "179"
      ]
     },
     "execution_count": 15,
     "metadata": {},
     "output_type": "execute_result"
    }
   ],
   "source": [
    "len(data311) #only 179 zip codes with reliable data left"
   ]
  },
  {
   "cell_type": "markdown",
   "metadata": {},
   "source": [
    "### Apply PCA to 311 data"
   ]
  },
  {
   "cell_type": "code",
   "execution_count": 16,
   "metadata": {},
   "outputs": [],
   "source": [
    "scaler311 = preprocessing.StandardScaler().fit(data311)\n",
    "data311S=scaler311.transform(data311)  "
   ]
  },
  {
   "cell_type": "code",
   "execution_count": 17,
   "metadata": {},
   "outputs": [
    {
     "data": {
      "image/png": "[encoded data removed]",
      "text/plain": [
       "<Figure size 432x288 with 1 Axes>"
      ]
     },
     "metadata": {
      "needs_background": "light"
     },
     "output_type": "display_data"
    }
   ],
   "source": [
    "#perform PC decomposition over data311\n",
    "pca = PCA(data311.shape[1])\n",
    "data311P=pca.fit_transform(data311S)\n",
    "eigenvalues = pca.explained_variance_ratio_\n",
    "#plot explained variance over the number of compinents\n",
    "n=40\n",
    "plt.bar(np.arange(n), eigenvalues[:n].cumsum())\n",
    "plt.xlabel(\"Number of components\")\n",
    "plt.ylabel(\"Explained Variance\")\n",
    "plt.show()"
   ]
  },
  {
   "cell_type": "code",
   "execution_count": 26,
   "metadata": {},
   "outputs": [
    {
     "data": {
      "text/plain": [
       "179"
      ]
     },
     "execution_count": 26,
     "metadata": {},
     "output_type": "execute_result"
    }
   ],
   "source": [
    "# create borough labels \n",
    "Z=np.array(data311.index)\n",
    "manhattanInd=(Z>10000)&(Z<10300)&(Z!=10026)&(Z!=10027)&(Z!=10029)&(Z!=10030)&(Z!=10037)&(Z!=10038) #Manhattan\n",
    "statenInd=(Z>=10300)&(Z<10400) #Staten Island\n",
    "brooklynInd=(Z>=11000)&(Z<11300) #Brooklyn\n",
    "queensInd=(Z>=11300)&(Z<11500) #Queens\n",
    "bronxInd=(Z>=10400)&(Z<10500) #Bronx\n",
    "D=Z*0 \n",
    "D[manhattanInd]=1\n",
    "D[statenInd]=2\n",
    "D[brooklynInd]=3\n",
    "D[queensInd]=4\n",
    "D[bronxInd]=5"
   ]
  },
  {
   "cell_type": "code",
   "execution_count": 25,
   "metadata": {},
   "outputs": [
    {
     "data": {
      "text/plain": [
       "(179, 162)"
      ]
     },
     "execution_count": 25,
     "metadata": {},
     "output_type": "execute_result"
    }
   ],
   "source": [
    "data311P.shape"
   ]
  },
  {
   "cell_type": "code",
   "execution_count": 19,
   "metadata": {},
   "outputs": [
    {
     "data": {
      "text/plain": [
       "<matplotlib.legend.Legend at 0x7ff1c41717b8>"
      ]
     },
     "execution_count": 19,
     "metadata": {},
     "output_type": "execute_result"
    },
    {
     "data": {
      "image/png": "[encoded data removed]",
      "text/plain": [
       "<Figure size 1080x1080 with 1 Axes>"
      ]
     },
     "metadata": {
      "needs_background": "light"
     },
     "output_type": "display_data"
    }
   ],
   "source": [
    "#2-d plot\n",
    "colors=('gray','red','green','blue','yellow','brown')\n",
    "fig = plt.figure(figsize=(15,15))\n",
    "for d in range(1,6):\n",
    "    plt.plot(np.array(data311P[D==d,0]), np.array(data311P[D==d,1]),\n",
    "        'o', color=colors[d], alpha=0.8, label=d)\n",
    "#plt.xlim((-0.2,0.2))   \n",
    "#plt.ylim((-0.2,0.2)) \n",
    "plt.legend(['Manhattan','Staten Isl','Brooklyn','Queens','Bronx'],bbox_to_anchor=(1, 0.5))"
   ]
  },
  {
   "cell_type": "markdown",
   "metadata": {
    "collapsed": true
   },
   "source": [
    "### Can 311 data over the zip codes can model median income?"
   ]
  },
  {
   "cell_type": "code",
   "execution_count": 16,
   "metadata": {},
   "outputs": [
    {
     "data": {
      "text/html": [
       "<div>\n",
       "<table border=\"1\" class=\"dataframe\">\n",
       "  <thead>\n",
       "    <tr style=\"text-align: right;\">\n",
       "      <th></th>\n",
       "      <th>Median</th>\n",
       "      <th>Mean</th>\n",
       "      <th>Pop</th>\n",
       "    </tr>\n",
       "    <tr>\n",
       "      <th>Zip</th>\n",
       "      <th></th>\n",
       "      <th></th>\n",
       "      <th></th>\n",
       "    </tr>\n",
       "  </thead>\n",
       "  <tbody>\n",
       "    <tr>\n",
       "      <th>1001</th>\n",
       "      <td>56662.5735</td>\n",
       "      <td>66687.7509</td>\n",
       "      <td>16445</td>\n",
       "    </tr>\n",
       "    <tr>\n",
       "      <th>1002</th>\n",
       "      <td>49853.4177</td>\n",
       "      <td>75062.6343</td>\n",
       "      <td>28069</td>\n",
       "    </tr>\n",
       "    <tr>\n",
       "      <th>1003</th>\n",
       "      <td>28462.0000</td>\n",
       "      <td>35121.0000</td>\n",
       "      <td>8491</td>\n",
       "    </tr>\n",
       "    <tr>\n",
       "      <th>1005</th>\n",
       "      <td>75423.0000</td>\n",
       "      <td>82442.0000</td>\n",
       "      <td>4798</td>\n",
       "    </tr>\n",
       "    <tr>\n",
       "      <th>1007</th>\n",
       "      <td>79076.3540</td>\n",
       "      <td>85801.9750</td>\n",
       "      <td>12962</td>\n",
       "    </tr>\n",
       "  </tbody>\n",
       "</table>\n",
       "</div>"
      ],
      "text/plain": [
       "          Median        Mean    Pop\n",
       "Zip                                \n",
       "1001  56662.5735  66687.7509  16445\n",
       "1002  49853.4177  75062.6343  28069\n",
       "1003  28462.0000  35121.0000   8491\n",
       "1005  75423.0000  82442.0000   4798\n",
       "1007  79076.3540  85801.9750  12962"
      ]
     },
     "execution_count": 16,
     "metadata": {},
     "output_type": "execute_result"
    }
   ],
   "source": [
    "dataIncome=pd.read_csv(\"data/MeanZip.csv\",index_col=0)\n",
    "dataIncome=dataIncome.apply(pd.to_numeric, errors='coerce')\n",
    "dataIncome=dataIncome.loc[dataIncome.Mean>0]\n",
    "dataIncome.head()"
   ]
  },
  {
   "cell_type": "code",
   "execution_count": 17,
   "metadata": {},
   "outputs": [],
   "source": [
    "DataIncome1=dataIncome.merge(data311,left_index=True,right_index=True)"
   ]
  },
  {
   "cell_type": "code",
   "execution_count": 18,
   "metadata": {},
   "outputs": [],
   "source": [
    "data311P=pd.DataFrame(data311P,index=data311.index)\n",
    "DataIncome2=dataIncome.merge(data311P,left_index=True,right_index=True)"
   ]
  },
  {
   "cell_type": "code",
   "execution_count": 19,
   "metadata": {},
   "outputs": [],
   "source": [
    "np.random.seed(2018)\n",
    "splitind=np.random.uniform(size=len(DataIncome1))\n",
    "DataIncome11=DataIncome1.loc[splitind<=0.5]\n",
    "DataIncome12=DataIncome1.loc[(splitind>0.5)&(splitind<0.8)]\n",
    "DataIncome13=DataIncome1.loc[splitind>=0.8]\n",
    "DataIncome21=DataIncome2.loc[splitind<=0.5]\n",
    "DataIncome22=DataIncome2.loc[(splitind>0.5)&(splitind<0.8)]\n",
    "DataIncome23=DataIncome2.loc[splitind>=0.8]"
   ]
  },
  {
   "cell_type": "code",
   "execution_count": 20,
   "metadata": {},
   "outputs": [
    {
     "name": "stdout",
     "output_type": "stream",
     "text": [
      "IS R-squared for 20 times is 1.0\n",
      "OS R-squared for 20 times is -2.06976151519\n"
     ]
    },
    {
     "name": "stderr",
     "output_type": "stream",
     "text": [
      "/Library/Frameworks/Python.framework/Versions/2.7/lib/python2.7/site-packages/scipy/linalg/basic.py:884: RuntimeWarning: internal gelsd driver lwork query error, required iwork dimension not returned. This is likely the result of LAPACK bug 0038, fixed in LAPACK 3.2.2 (released July 21, 2010). Falling back to 'gelss' driver.\n",
      "  warnings.warn(mesg, RuntimeWarning)\n"
     ]
    }
   ],
   "source": [
    "np.random.seed(2018)\n",
    "# Apply cross-validation to diagnose model for overfitting\n",
    "R_IS=[]; R_OS=[] #lists for recording in-sample (training) and out-of-sample (test) R2\n",
    "n=20 #number of runs\n",
    "data=DataIncome1.iloc[:,3:]\n",
    "Y=DataIncome1.Median\n",
    "for i in range(n):\n",
    "    X_train, X_test, y_train, y_test = train_test_split(data,Y,test_size=0.5) #randomly split data into training (70%) and test (30%)\n",
    "    res=LinearRegression(fit_intercept=True)\n",
    "    res.fit(X_train,y_train)\n",
    "    R_IS.append(1-((np.asarray(res.predict(X_train))-y_train)**2).sum()/((y_train-np.mean(y_train))**2).sum())                                                                     \n",
    "    R_OS.append(1-((np.asarray(res.predict(X_test))-y_test)**2).sum()/((y_test-np.mean(y_test))**2).sum())\n",
    "print(\"IS R-squared for {} times is {}\".format(n,np.mean(R_IS)))\n",
    "print(\"OS R-squared for {} times is {}\".format(n,np.mean(R_OS)))"
   ]
  },
  {
   "cell_type": "code",
   "execution_count": 21,
   "metadata": {},
   "outputs": [
    {
     "name": "stdout",
     "output_type": "stream",
     "text": [
      "IS R-squared for 20 times is 0.766183966354\n",
      "OS R-squared for 20 times is 0.438251553774\n"
     ]
    }
   ],
   "source": [
    "# Apply cross-validation to diagnose model for overfitting\n",
    "R_IS=[]; R_OS=[] #lists for recording in-sample (training) and out-of-sample (test) R2\n",
    "n=20 #number of runs\n",
    "data=DataIncome2.iloc[:,3:13]\n",
    "Y=DataIncome2.Median\n",
    "for i in range(n):\n",
    "    X_train, X_test, y_train, y_test = train_test_split(data,Y,test_size=0.5) #randomly split data into training (70%) and test (30%)\n",
    "    res=LinearRegression(fit_intercept=True)\n",
    "    res.fit(X_train,y_train)\n",
    "    R_IS.append(1-((np.asarray(res.predict(X_train))-y_train)**2).sum()/((y_train-np.mean(y_train))**2).sum())                                                                     \n",
    "    R_OS.append(1-((np.asarray(res.predict(X_test))-y_test)**2).sum()/((y_test-np.mean(y_test))**2).sum())\n",
    "print(\"IS R-squared for {} times is {}\".format(n,np.mean(R_IS)))\n",
    "print(\"OS R-squared for {} times is {}\".format(n,np.mean(R_OS)))"
   ]
  },
  {
   "cell_type": "markdown",
   "metadata": {},
   "source": [
    "# Task 3. \n",
    "Repeat the analysis for median price per sq.foot from Zillow. See if 311 data could help"
   ]
  },
  {
   "cell_type": "code",
   "execution_count": 22,
   "metadata": {},
   "outputs": [
    {
     "data": {
      "text/html": [
       "<div>\n",
       "<table border=\"1\" class=\"dataframe\">\n",
       "  <thead>\n",
       "    <tr style=\"text-align: right;\">\n",
       "      <th></th>\n",
       "      <th>City</th>\n",
       "      <th>State</th>\n",
       "      <th>Metro</th>\n",
       "      <th>CountyName</th>\n",
       "      <th>SizeRank</th>\n",
       "      <th>2010-01</th>\n",
       "      <th>2010-02</th>\n",
       "      <th>2010-03</th>\n",
       "      <th>2010-04</th>\n",
       "      <th>2010-05</th>\n",
       "      <th>...</th>\n",
       "      <th>2017-11</th>\n",
       "      <th>2017-12</th>\n",
       "      <th>2018-01</th>\n",
       "      <th>2018-02</th>\n",
       "      <th>2018-03</th>\n",
       "      <th>2018-04</th>\n",
       "      <th>2018-05</th>\n",
       "      <th>2018-06</th>\n",
       "      <th>2018-07</th>\n",
       "      <th>2018-08</th>\n",
       "    </tr>\n",
       "    <tr>\n",
       "      <th>RegionName</th>\n",
       "      <th></th>\n",
       "      <th></th>\n",
       "      <th></th>\n",
       "      <th></th>\n",
       "      <th></th>\n",
       "      <th></th>\n",
       "      <th></th>\n",
       "      <th></th>\n",
       "      <th></th>\n",
       "      <th></th>\n",
       "      <th></th>\n",
       "      <th></th>\n",
       "      <th></th>\n",
       "      <th></th>\n",
       "      <th></th>\n",
       "      <th></th>\n",
       "      <th></th>\n",
       "      <th></th>\n",
       "      <th></th>\n",
       "      <th></th>\n",
       "      <th></th>\n",
       "    </tr>\n",
       "  </thead>\n",
       "  <tbody>\n",
       "    <tr>\n",
       "      <th>10023</th>\n",
       "      <td>New York</td>\n",
       "      <td>NY</td>\n",
       "      <td>New York, NY</td>\n",
       "      <td>New York</td>\n",
       "      <td>1</td>\n",
       "      <td>NaN</td>\n",
       "      <td>NaN</td>\n",
       "      <td>NaN</td>\n",
       "      <td>NaN</td>\n",
       "      <td>1366.621067</td>\n",
       "      <td>...</td>\n",
       "      <td>1954.992968</td>\n",
       "      <td>1983.055556</td>\n",
       "      <td>1963.986600</td>\n",
       "      <td>1702.573836</td>\n",
       "      <td>1522.948540</td>\n",
       "      <td>1568.100358</td>\n",
       "      <td>1612.378790</td>\n",
       "      <td>1569.371728</td>\n",
       "      <td>1599.538839</td>\n",
       "      <td>1619.794484</td>\n",
       "    </tr>\n",
       "    <tr>\n",
       "      <th>60614</th>\n",
       "      <td>Chicago</td>\n",
       "      <td>IL</td>\n",
       "      <td>Chicago, IL</td>\n",
       "      <td>Cook</td>\n",
       "      <td>2</td>\n",
       "      <td>347.391304</td>\n",
       "      <td>333.975410</td>\n",
       "      <td>332.666667</td>\n",
       "      <td>324.490763</td>\n",
       "      <td>325.832510</td>\n",
       "      <td>...</td>\n",
       "      <td>514.255544</td>\n",
       "      <td>522.193211</td>\n",
       "      <td>519.321330</td>\n",
       "      <td>520.408163</td>\n",
       "      <td>476.592732</td>\n",
       "      <td>463.928571</td>\n",
       "      <td>470.769231</td>\n",
       "      <td>461.960986</td>\n",
       "      <td>455.861397</td>\n",
       "      <td>436.111111</td>\n",
       "    </tr>\n",
       "    <tr>\n",
       "      <th>79936</th>\n",
       "      <td>El Paso</td>\n",
       "      <td>TX</td>\n",
       "      <td>El Paso, TX</td>\n",
       "      <td>El Paso</td>\n",
       "      <td>3</td>\n",
       "      <td>88.688320</td>\n",
       "      <td>88.159032</td>\n",
       "      <td>87.940589</td>\n",
       "      <td>87.929656</td>\n",
       "      <td>87.368706</td>\n",
       "      <td>...</td>\n",
       "      <td>88.419016</td>\n",
       "      <td>88.540363</td>\n",
       "      <td>88.755279</td>\n",
       "      <td>88.455330</td>\n",
       "      <td>88.367347</td>\n",
       "      <td>89.118199</td>\n",
       "      <td>90.128755</td>\n",
       "      <td>90.316333</td>\n",
       "      <td>90.726125</td>\n",
       "      <td>91.668726</td>\n",
       "    </tr>\n",
       "    <tr>\n",
       "      <th>10002</th>\n",
       "      <td>New York</td>\n",
       "      <td>NY</td>\n",
       "      <td>New York, NY</td>\n",
       "      <td>New York</td>\n",
       "      <td>4</td>\n",
       "      <td>NaN</td>\n",
       "      <td>NaN</td>\n",
       "      <td>NaN</td>\n",
       "      <td>NaN</td>\n",
       "      <td>NaN</td>\n",
       "      <td>...</td>\n",
       "      <td>2041.247701</td>\n",
       "      <td>2043.165468</td>\n",
       "      <td>2063.785322</td>\n",
       "      <td>2012.302285</td>\n",
       "      <td>2015.369804</td>\n",
       "      <td>2026.353276</td>\n",
       "      <td>2022.274326</td>\n",
       "      <td>2013.831259</td>\n",
       "      <td>1997.942387</td>\n",
       "      <td>2030.259366</td>\n",
       "    </tr>\n",
       "    <tr>\n",
       "      <th>926</th>\n",
       "      <td>San Juan</td>\n",
       "      <td>TX</td>\n",
       "      <td>Brownsville, TX</td>\n",
       "      <td>Cameron</td>\n",
       "      <td>5</td>\n",
       "      <td>NaN</td>\n",
       "      <td>NaN</td>\n",
       "      <td>NaN</td>\n",
       "      <td>NaN</td>\n",
       "      <td>NaN</td>\n",
       "      <td>...</td>\n",
       "      <td>92.968750</td>\n",
       "      <td>92.954963</td>\n",
       "      <td>93.776641</td>\n",
       "      <td>92.968750</td>\n",
       "      <td>95.090118</td>\n",
       "      <td>103.846154</td>\n",
       "      <td>100.411523</td>\n",
       "      <td>108.447489</td>\n",
       "      <td>102.270729</td>\n",
       "      <td>102.270729</td>\n",
       "    </tr>\n",
       "  </tbody>\n",
       "</table>\n",
       "<p>5 rows × 109 columns</p>\n",
       "</div>"
      ],
      "text/plain": [
       "                City State            Metro CountyName  SizeRank     2010-01  \\\n",
       "RegionName                                                                     \n",
       "10023       New York    NY     New York, NY   New York         1         NaN   \n",
       "60614        Chicago    IL      Chicago, IL       Cook         2  347.391304   \n",
       "79936        El Paso    TX      El Paso, TX    El Paso         3   88.688320   \n",
       "10002       New York    NY     New York, NY   New York         4         NaN   \n",
       "926         San Juan    TX  Brownsville, TX    Cameron         5         NaN   \n",
       "\n",
       "               2010-02     2010-03     2010-04      2010-05     ...       \\\n",
       "RegionName                                                      ...        \n",
       "10023              NaN         NaN         NaN  1366.621067     ...        \n",
       "60614       333.975410  332.666667  324.490763   325.832510     ...        \n",
       "79936        88.159032   87.940589   87.929656    87.368706     ...        \n",
       "10002              NaN         NaN         NaN          NaN     ...        \n",
       "926                NaN         NaN         NaN          NaN     ...        \n",
       "\n",
       "                2017-11      2017-12      2018-01      2018-02      2018-03  \\\n",
       "RegionName                                                                    \n",
       "10023       1954.992968  1983.055556  1963.986600  1702.573836  1522.948540   \n",
       "60614        514.255544   522.193211   519.321330   520.408163   476.592732   \n",
       "79936         88.419016    88.540363    88.755279    88.455330    88.367347   \n",
       "10002       2041.247701  2043.165468  2063.785322  2012.302285  2015.369804   \n",
       "926           92.968750    92.954963    93.776641    92.968750    95.090118   \n",
       "\n",
       "                2018-04      2018-05      2018-06      2018-07      2018-08  \n",
       "RegionName                                                                   \n",
       "10023       1568.100358  1612.378790  1569.371728  1599.538839  1619.794484  \n",
       "60614        463.928571   470.769231   461.960986   455.861397   436.111111  \n",
       "79936         89.118199    90.128755    90.316333    90.726125    91.668726  \n",
       "10002       2026.353276  2022.274326  2013.831259  1997.942387  2030.259366  \n",
       "926          103.846154   100.411523   108.447489   102.270729   102.270729  \n",
       "\n",
       "[5 rows x 109 columns]"
      ]
     },
     "execution_count": 22,
     "metadata": {},
     "output_type": "execute_result"
    }
   ],
   "source": [
    "zillow=pd.read_csv(\"data/Zip_MedianListingPricePerSqft_AllHomes.csv\",index_col=0)\n",
    "zillow.head()"
   ]
  },
  {
   "cell_type": "markdown",
   "metadata": {},
   "source": [
    "# House price prediction using 311 data\n",
    "\n",
    "### Can 311 complaining profile of urban neighborhoods enhance real-estate price prediction?\n",
    "\n",
    "[Zhu, E., & Sobolevsky, S. (2018). House Price Modeling with Digital Census. arXiv preprint arXiv:1809.03834.]"
   ]
  },
  {
   "cell_type": "markdown",
   "metadata": {},
   "source": [
    "Before we tried to use some parameters of the house (size) to predict its price. However notice that location matters as well. Below we upload a sample (approximately 30% of the total) of more than 2000 individual house sales all around NYC in 2012. Each record together with the parameters of the house also contains important characteristics of the location (zip code) - average income of its residents (accodring to US census), as well as the relative structure of 311 complaints happening in the area."
   ]
  },
  {
   "cell_type": "code",
   "execution_count": 23,
   "metadata": {},
   "outputs": [],
   "source": [
    "REsample=pd.read_csv('data/NYChome_sales2012.csv',index_col=0)"
   ]
  },
  {
   "cell_type": "code",
   "execution_count": 24,
   "metadata": {},
   "outputs": [
    {
     "data": {
      "text/plain": [
       "14611"
      ]
     },
     "execution_count": 24,
     "metadata": {},
     "output_type": "execute_result"
    }
   ],
   "source": [
    "len(REsample)"
   ]
  },
  {
   "cell_type": "code",
   "execution_count": 25,
   "metadata": {},
   "outputs": [
    {
     "data": {
      "text/html": [
       "<div>\n",
       "<table border=\"1\" class=\"dataframe\">\n",
       "  <thead>\n",
       "    <tr style=\"text-align: right;\">\n",
       "      <th></th>\n",
       "      <th>borough</th>\n",
       "      <th>neighborhood</th>\n",
       "      <th>block</th>\n",
       "      <th>lot</th>\n",
       "      <th>easement</th>\n",
       "      <th>building_class_present</th>\n",
       "      <th>address</th>\n",
       "      <th>zip_code</th>\n",
       "      <th>commmercial_units</th>\n",
       "      <th>land_sq_feet</th>\n",
       "      <th>gross_sq_feet</th>\n",
       "      <th>year_built</th>\n",
       "      <th>sale_price</th>\n",
       "      <th>sale_date</th>\n",
       "    </tr>\n",
       "  </thead>\n",
       "  <tbody>\n",
       "    <tr>\n",
       "      <th>204018</th>\n",
       "      <td>4</td>\n",
       "      <td>LAURELTON</td>\n",
       "      <td>12941</td>\n",
       "      <td>94</td>\n",
       "      <td>NaN</td>\n",
       "      <td>A2</td>\n",
       "      <td>131-43 FRANCIS LEWIS BLVD</td>\n",
       "      <td>11413</td>\n",
       "      <td>0</td>\n",
       "      <td>3560</td>\n",
       "      <td>1473</td>\n",
       "      <td>1940</td>\n",
       "      <td>0</td>\n",
       "      <td>2012-01-01</td>\n",
       "    </tr>\n",
       "    <tr>\n",
       "      <th>217555</th>\n",
       "      <td>2</td>\n",
       "      <td>BATHGATE</td>\n",
       "      <td>3046</td>\n",
       "      <td>42</td>\n",
       "      <td>NaN</td>\n",
       "      <td>A1</td>\n",
       "      <td>2069 BATHGATE AVE</td>\n",
       "      <td>10457</td>\n",
       "      <td>0</td>\n",
       "      <td>1964</td>\n",
       "      <td>1424</td>\n",
       "      <td>1899</td>\n",
       "      <td>345376</td>\n",
       "      <td>2012-04-05</td>\n",
       "    </tr>\n",
       "    <tr>\n",
       "      <th>217598</th>\n",
       "      <td>2</td>\n",
       "      <td>BAYCHESTER</td>\n",
       "      <td>4707</td>\n",
       "      <td>70</td>\n",
       "      <td>NaN</td>\n",
       "      <td>A5</td>\n",
       "      <td>1134 EAST 213 STREET</td>\n",
       "      <td>10469</td>\n",
       "      <td>0</td>\n",
       "      <td>2320</td>\n",
       "      <td>1813</td>\n",
       "      <td>1950</td>\n",
       "      <td>335700</td>\n",
       "      <td>2012-05-17</td>\n",
       "    </tr>\n",
       "    <tr>\n",
       "      <th>217599</th>\n",
       "      <td>2</td>\n",
       "      <td>BAYCHESTER</td>\n",
       "      <td>4708</td>\n",
       "      <td>48</td>\n",
       "      <td>NaN</td>\n",
       "      <td>A5</td>\n",
       "      <td>1110 EAST 214TH STREET</td>\n",
       "      <td>10469</td>\n",
       "      <td>0</td>\n",
       "      <td>1710</td>\n",
       "      <td>1813</td>\n",
       "      <td>1945</td>\n",
       "      <td>338000</td>\n",
       "      <td>2012-02-03</td>\n",
       "    </tr>\n",
       "    <tr>\n",
       "      <th>217600</th>\n",
       "      <td>2</td>\n",
       "      <td>BAYCHESTER</td>\n",
       "      <td>4710</td>\n",
       "      <td>1</td>\n",
       "      <td>NaN</td>\n",
       "      <td>A5</td>\n",
       "      <td>1127 EAST 215TH STREET</td>\n",
       "      <td>10469</td>\n",
       "      <td>0</td>\n",
       "      <td>2759</td>\n",
       "      <td>1998</td>\n",
       "      <td>1945</td>\n",
       "      <td>0</td>\n",
       "      <td>2012-12-20</td>\n",
       "    </tr>\n",
       "  </tbody>\n",
       "</table>\n",
       "</div>"
      ],
      "text/plain": [
       "        borough neighborhood  block  lot  easement building_class_present  \\\n",
       "204018        4    LAURELTON  12941   94       NaN                     A2   \n",
       "217555        2     BATHGATE   3046   42       NaN                     A1   \n",
       "217598        2   BAYCHESTER   4707   70       NaN                     A5   \n",
       "217599        2   BAYCHESTER   4708   48       NaN                     A5   \n",
       "217600        2   BAYCHESTER   4710    1       NaN                     A5   \n",
       "\n",
       "                          address  zip_code  commmercial_units  land_sq_feet  \\\n",
       "204018  131-43 FRANCIS LEWIS BLVD     11413                  0          3560   \n",
       "217555          2069 BATHGATE AVE     10457                  0          1964   \n",
       "217598       1134 EAST 213 STREET     10469                  0          2320   \n",
       "217599     1110 EAST 214TH STREET     10469                  0          1710   \n",
       "217600     1127 EAST 215TH STREET     10469                  0          2759   \n",
       "\n",
       "        gross_sq_feet  year_built  sale_price   sale_date  \n",
       "204018           1473        1940           0  2012-01-01  \n",
       "217555           1424        1899      345376  2012-04-05  \n",
       "217598           1813        1950      335700  2012-05-17  \n",
       "217599           1813        1945      338000  2012-02-03  \n",
       "217600           1998        1945           0  2012-12-20  "
      ]
     },
     "execution_count": 25,
     "metadata": {},
     "output_type": "execute_result"
    }
   ],
   "source": [
    "REsample.head()"
   ]
  },
  {
   "cell_type": "code",
   "execution_count": 26,
   "metadata": {},
   "outputs": [
    {
     "data": {
      "text/plain": [
       "Index([u'borough', u'neighborhood', u'block', u'lot', u'easement',\n",
       "       u'building_class_present', u'address', u'zip_code',\n",
       "       u'commmercial_units', u'land_sq_feet', u'gross_sq_feet', u'year_built',\n",
       "       u'sale_price', u'sale_date'],\n",
       "      dtype='object')"
      ]
     },
     "execution_count": 26,
     "metadata": {},
     "output_type": "execute_result"
    }
   ],
   "source": [
    "REsample.columns"
   ]
  },
  {
   "cell_type": "code",
   "execution_count": 27,
   "metadata": {},
   "outputs": [
    {
     "data": {
      "text/plain": [
       "array([   0,  216,  894, 2769, 7288, 3444])"
      ]
     },
     "execution_count": 27,
     "metadata": {},
     "output_type": "execute_result"
    }
   ],
   "source": [
    "np.bincount(REsample.borough)"
   ]
  },
  {
   "cell_type": "code",
   "execution_count": 28,
   "metadata": {},
   "outputs": [],
   "source": [
    "np.random.seed(2018)\n",
    "splitind=np.random.uniform(size=len(REsample))\n",
    "REsample1=REsample.loc[splitind<=0.2]\n",
    "REsample2=REsample.loc[(splitind>0.2)&(splitind<0.6)]\n",
    "REsample3=REsample.loc[(splitind>0.6)&(splitind<=1)]"
   ]
  },
  {
   "cell_type": "code",
   "execution_count": 29,
   "metadata": {},
   "outputs": [
    {
     "data": {
      "text/plain": [
       "2953"
      ]
     },
     "execution_count": 29,
     "metadata": {},
     "output_type": "execute_result"
    }
   ],
   "source": [
    "len(REsample1) #loosing around 50 records within sparse zip codes"
   ]
  },
  {
   "cell_type": "code",
   "execution_count": 30,
   "metadata": {},
   "outputs": [
    {
     "data": {
      "text/plain": [
       "5818"
      ]
     },
     "execution_count": 30,
     "metadata": {},
     "output_type": "execute_result"
    }
   ],
   "source": [
    "len(REsample2)"
   ]
  },
  {
   "cell_type": "code",
   "execution_count": 31,
   "metadata": {},
   "outputs": [
    {
     "data": {
      "text/plain": [
       "5840"
      ]
     },
     "execution_count": 31,
     "metadata": {},
     "output_type": "execute_result"
    }
   ],
   "source": [
    "len(REsample3)"
   ]
  },
  {
   "cell_type": "markdown",
   "metadata": {},
   "source": [
    "### OLS "
   ]
  },
  {
   "cell_type": "code",
   "execution_count": 32,
   "metadata": {
    "scrolled": true
   },
   "outputs": [
    {
     "name": "stdout",
     "output_type": "stream",
     "text": [
      "                            OLS Regression Results                            \n",
      "==============================================================================\n",
      "Dep. Variable:             sale_price   R-squared:                       0.141\n",
      "Model:                            OLS   Adj. R-squared:                  0.140\n",
      "Method:                 Least Squares   F-statistic:                     161.4\n",
      "Date:                Mon, 01 Oct 2018   Prob (F-statistic):           7.39e-97\n",
      "Time:                        12:35:08   Log-Likelihood:                -44869.\n",
      "No. Observations:                2953   AIC:                         8.975e+04\n",
      "Df Residuals:                    2949   BIC:                         8.977e+04\n",
      "Df Model:                           3                                         \n",
      "Covariance Type:            nonrobust                                         \n",
      "=================================================================================\n",
      "                    coef    std err          t      P>|t|      [95.0% Conf. Int.]\n",
      "---------------------------------------------------------------------------------\n",
      "const          7.736e+06   1.29e+06      5.994      0.000      5.21e+06  1.03e+07\n",
      "gross_sq_feet   423.7698     19.843     21.356      0.000       384.862   462.677\n",
      "land_sq_feet    -35.3261      5.744     -6.151      0.000       -46.588   -24.064\n",
      "year_built    -4116.7259    665.474     -6.186      0.000     -5421.566 -2811.886\n",
      "==============================================================================\n",
      "Omnibus:                     5068.436   Durbin-Watson:                   1.383\n",
      "Prob(Omnibus):                  0.000   Jarque-Bera (JB):          5354925.549\n",
      "Skew:                          11.661   Prob(JB):                         0.00\n",
      "Kurtosis:                     210.310   Cond. No.                     3.95e+05\n",
      "==============================================================================\n",
      "\n",
      "Warnings:\n",
      "[1] Standard Errors assume that the covariance matrix of the errors is correctly specified.\n",
      "[2] The condition number is large, 3.95e+05. This might indicate that there are\n",
      "strong multicollinearity or other numerical problems.\n"
     ]
    }
   ],
   "source": [
    "# Run a linear regression (using statsmodels: \"sale_price\"~\"gross_sq_feet\"+\"land_sq_feet\"+\"year_built\"\n",
    "base_columns=[\"gross_sq_feet\",\"land_sq_feet\",\"year_built\"]\n",
    "res=sm.OLS(REsample1.sale_price,sm.add_constant(REsample1.loc[:,base_columns]),missing=\"drop\").fit()\n",
    "print res.summary()"
   ]
  },
  {
   "cell_type": "code",
   "execution_count": 33,
   "metadata": {},
   "outputs": [
    {
     "name": "stdout",
     "output_type": "stream",
     "text": [
      "                            OLS Regression Results                            \n",
      "==============================================================================\n",
      "Dep. Variable:             sale_price   R-squared:                       0.141\n",
      "Model:                            OLS   Adj. R-squared:                  0.140\n",
      "Method:                 Least Squares   F-statistic:                     161.4\n",
      "Date:                Mon, 01 Oct 2018   Prob (F-statistic):           7.39e-97\n",
      "Time:                        12:35:08   Log-Likelihood:                -44869.\n",
      "No. Observations:                2953   AIC:                         8.975e+04\n",
      "Df Residuals:                    2949   BIC:                         8.977e+04\n",
      "Df Model:                           3                                         \n",
      "Covariance Type:            nonrobust                                         \n",
      "=================================================================================\n",
      "                    coef    std err          t      P>|t|      [95.0% Conf. Int.]\n",
      "---------------------------------------------------------------------------------\n",
      "Intercept      7.736e+06   1.29e+06      5.994      0.000      5.21e+06  1.03e+07\n",
      "gross_sq_feet   423.7698     19.843     21.356      0.000       384.862   462.677\n",
      "land_sq_feet    -35.3261      5.744     -6.151      0.000       -46.588   -24.064\n",
      "year_built    -4116.7259    665.474     -6.186      0.000     -5421.566 -2811.886\n",
      "==============================================================================\n",
      "Omnibus:                     5068.436   Durbin-Watson:                   1.383\n",
      "Prob(Omnibus):                  0.000   Jarque-Bera (JB):          5354925.549\n",
      "Skew:                          11.661   Prob(JB):                         0.00\n",
      "Kurtosis:                     210.310   Cond. No.                     3.95e+05\n",
      "==============================================================================\n",
      "\n",
      "Warnings:\n",
      "[1] Standard Errors assume that the covariance matrix of the errors is correctly specified.\n",
      "[2] The condition number is large, 3.95e+05. This might indicate that there are\n",
      "strong multicollinearity or other numerical problems.\n"
     ]
    }
   ],
   "source": [
    "#If using statsmodels formula\n",
    "lm = smf.ols(formula='sale_price ~ gross_sq_feet+land_sq_feet+year_built', data = REsample1).fit()\n",
    "print(lm.summary())"
   ]
  },
  {
   "cell_type": "code",
   "execution_count": 34,
   "metadata": {},
   "outputs": [
    {
     "data": {
      "text/plain": [
       "array([  423.76983352,   -35.32608953, -4116.72594753])"
      ]
     },
     "execution_count": 34,
     "metadata": {},
     "output_type": "execute_result"
    }
   ],
   "source": [
    "#If using sklearn\n",
    "lm=LinearRegression()\n",
    "lm.fit(REsample1[[\"gross_sq_feet\",\"land_sq_feet\",\"year_built\"]],REsample1.sale_price)\n",
    "lm.coef_"
   ]
  },
  {
   "cell_type": "markdown",
   "metadata": {},
   "source": [
    "# Now add all 311 to the house price regression"
   ]
  },
  {
   "cell_type": "code",
   "execution_count": 35,
   "metadata": {},
   "outputs": [],
   "source": [
    "#add 311 data\n",
    "REsample1=REsample1.merge(data311P,left_on='zip_code',right_index=True)"
   ]
  },
  {
   "cell_type": "code",
   "execution_count": 36,
   "metadata": {},
   "outputs": [],
   "source": [
    "list_311=list(data311P.columns)"
   ]
  },
  {
   "cell_type": "code",
   "execution_count": 37,
   "metadata": {
    "scrolled": false
   },
   "outputs": [
    {
     "name": "stdout",
     "output_type": "stream",
     "text": [
      "                            OLS Regression Results                            \n",
      "==============================================================================\n",
      "Dep. Variable:             sale_price   R-squared:                       0.528\n",
      "Model:                            OLS   Adj. R-squared:                  0.504\n",
      "Method:                 Least Squares   F-statistic:                     21.86\n",
      "Date:                Mon, 01 Oct 2018   Prob (F-statistic):               0.00\n",
      "Time:                        12:35:08   Log-Likelihood:                -43115.\n",
      "No. Observations:                2893   AIC:                         8.651e+04\n",
      "Df Residuals:                    2751   BIC:                         8.736e+04\n",
      "Df Model:                         141                                         \n",
      "Covariance Type:            nonrobust                                         \n",
      "=================================================================================\n",
      "                    coef    std err          t      P>|t|      [95.0% Conf. Int.]\n",
      "---------------------------------------------------------------------------------\n",
      "const         -8.715e+05   1.27e+06     -0.684      0.494     -3.37e+06  1.63e+06\n",
      "gross_sq_feet   104.1643     19.995      5.209      0.000        64.957   143.372\n",
      "land_sq_feet     14.7885      5.223      2.832      0.005         4.548    25.029\n",
      "year_built      859.9677    734.299      1.171      0.242      -579.865  2299.800\n",
      "0              2.262e+05   8.57e+04      2.639      0.008      5.82e+04  3.94e+05\n",
      "1               1.44e+05   6.56e+04      2.195      0.028      1.53e+04  2.73e+05\n",
      "2              2.113e+05    3.5e+05      0.603      0.546     -4.76e+05  8.98e+05\n",
      "3             -1.362e+04   2.67e+05     -0.051      0.959     -5.37e+05   5.1e+05\n",
      "4              4.232e+05   1.92e+05      2.205      0.028      4.68e+04     8e+05\n",
      "5             -1.593e+05   1.07e+05     -1.487      0.137     -3.69e+05  5.07e+04\n",
      "6             -2.829e+05   1.83e+05     -1.546      0.122     -6.42e+05   7.6e+04\n",
      "7             -2.725e+05   2.26e+05     -1.206      0.228     -7.16e+05  1.71e+05\n",
      "8              3.409e+05    1.6e+05      2.137      0.033       2.8e+04  6.54e+05\n",
      "9              1.192e+05    1.9e+05      0.627      0.531     -2.54e+05  4.92e+05\n",
      "10             4.263e+05   1.79e+05      2.379      0.017      7.49e+04  7.78e+05\n",
      "11             1.775e+04   2.18e+05      0.081      0.935      -4.1e+05  4.46e+05\n",
      "12            -8083.4805   1.41e+05     -0.057      0.954     -2.84e+05  2.68e+05\n",
      "13             9.482e+04   9.95e+04      0.953      0.341        -1e+05   2.9e+05\n",
      "14             -8.03e+04   1.42e+05     -0.565      0.572     -3.59e+05  1.98e+05\n",
      "15            -3.878e+05   1.58e+05     -2.449      0.014     -6.98e+05 -7.73e+04\n",
      "16            -3.241e+05   1.35e+05     -2.397      0.017     -5.89e+05  -5.9e+04\n",
      "17             2.635e+05    1.1e+05      2.396      0.017      4.78e+04  4.79e+05\n",
      "18             2.651e+05   1.58e+05      1.675      0.094     -4.53e+04  5.76e+05\n",
      "19             2.718e+04   1.21e+05      0.224      0.823      -2.1e+05  2.65e+05\n",
      "20             2.967e+05    1.2e+05      2.476      0.013      6.17e+04  5.32e+05\n",
      "21            -2.217e+05   1.74e+05     -1.272      0.204     -5.64e+05   1.2e+05\n",
      "22             -1.11e+05   1.02e+05     -1.087      0.277     -3.11e+05  8.92e+04\n",
      "23              1.69e+05   1.27e+05      1.332      0.183     -7.98e+04  4.18e+05\n",
      "24             2.057e+05   1.29e+05      1.594      0.111     -4.73e+04  4.59e+05\n",
      "25            -1.942e+05   1.27e+05     -1.531      0.126     -4.43e+05  5.45e+04\n",
      "26            -8.919e+04   1.33e+05     -0.670      0.503      -3.5e+05  1.72e+05\n",
      "27             1.248e+05   1.28e+05      0.976      0.329     -1.26e+05  3.76e+05\n",
      "28              1.99e+05   1.04e+05      1.918      0.055     -4434.239  4.02e+05\n",
      "29            -2.703e+05   1.32e+05     -2.052      0.040     -5.29e+05  -1.2e+04\n",
      "30             4.219e+05   1.42e+05      2.970      0.003      1.43e+05  7.01e+05\n",
      "31             1.199e+05   1.14e+05      1.052      0.293     -1.04e+05  3.43e+05\n",
      "32             2.089e+05   1.67e+05      1.248      0.212     -1.19e+05  5.37e+05\n",
      "33            -7430.3816   1.26e+05     -0.059      0.953     -2.54e+05  2.39e+05\n",
      "34             1.953e+05   1.32e+05      1.481      0.139     -6.33e+04  4.54e+05\n",
      "35             3.041e+05   1.25e+05      2.425      0.015      5.82e+04   5.5e+05\n",
      "36             6713.0138    7.5e+04      0.089      0.929      -1.4e+05  1.54e+05\n",
      "37            -4.548e+04   8.79e+04     -0.517      0.605     -2.18e+05  1.27e+05\n",
      "38            -1.474e+05   9.97e+04     -1.478      0.139     -3.43e+05  4.81e+04\n",
      "39            -2.543e+05   1.64e+05     -1.549      0.121     -5.76e+05  6.76e+04\n",
      "40            -6.882e+04   9.85e+04     -0.698      0.485     -2.62e+05  1.24e+05\n",
      "41             1.293e+05   1.22e+05      1.063      0.288     -1.09e+05  3.68e+05\n",
      "42            -2.467e+05   1.18e+05     -2.098      0.036     -4.77e+05 -1.61e+04\n",
      "43             5.908e+04    9.8e+04      0.603      0.547     -1.33e+05  2.51e+05\n",
      "44            -7.436e+04   1.12e+05     -0.664      0.507     -2.94e+05  1.45e+05\n",
      "45             4.149e+05   1.64e+05      2.533      0.011      9.37e+04  7.36e+05\n",
      "46            -1.384e+05   9.65e+04     -1.434      0.152     -3.28e+05  5.08e+04\n",
      "47             7.494e+04   1.22e+05      0.613      0.540     -1.65e+05  3.15e+05\n",
      "48             8.221e+04   1.27e+05      0.649      0.516     -1.66e+05   3.3e+05\n",
      "49             -8.39e+04   9.34e+04     -0.898      0.369     -2.67e+05  9.92e+04\n",
      "50             2.098e+05   1.66e+05      1.263      0.207     -1.16e+05  5.35e+05\n",
      "51             2.326e+05   1.49e+05      1.560      0.119     -5.98e+04  5.25e+05\n",
      "52             1.655e+05   8.92e+04      1.855      0.064     -9412.272   3.4e+05\n",
      "53            -2.618e+05   1.71e+05     -1.528      0.127     -5.98e+05  7.41e+04\n",
      "54             3.058e+04   1.04e+05      0.293      0.769     -1.74e+05  2.35e+05\n",
      "55            -2.902e+04   8.28e+04     -0.350      0.726     -1.91e+05  1.33e+05\n",
      "56            -2.247e+05   1.29e+05     -1.736      0.083     -4.79e+05  2.91e+04\n",
      "57             1.738e+05   1.01e+05      1.717      0.086     -2.47e+04  3.72e+05\n",
      "58            -4.568e+05   1.72e+05     -2.658      0.008     -7.94e+05  -1.2e+05\n",
      "59            -4.771e+04   1.12e+05     -0.428      0.669     -2.67e+05  1.71e+05\n",
      "60            -6.355e+04   1.32e+05     -0.482      0.630     -3.22e+05  1.95e+05\n",
      "61             5.652e+05   2.19e+05      2.585      0.010      1.36e+05  9.94e+05\n",
      "62             4.019e+04   1.24e+05      0.323      0.747     -2.04e+05  2.84e+05\n",
      "63             2.712e+05   1.25e+05      2.168      0.030       2.6e+04  5.16e+05\n",
      "64             3.535e+05   1.07e+05      3.312      0.001      1.44e+05  5.63e+05\n",
      "65            -5.987e+04   9.65e+04     -0.620      0.535     -2.49e+05  1.29e+05\n",
      "66             6.972e+04   1.57e+05      0.445      0.657     -2.38e+05  3.77e+05\n",
      "67             6.684e+05   1.24e+05      5.398      0.000      4.26e+05  9.11e+05\n",
      "68             6.341e+04   1.02e+05      0.620      0.535     -1.37e+05  2.64e+05\n",
      "69            -2.006e+05   1.06e+05     -1.895      0.058     -4.08e+05  6977.807\n",
      "70            -5.259e+04   1.46e+05     -0.360      0.719     -3.39e+05  2.34e+05\n",
      "71            -7.706e+04   1.14e+05     -0.676      0.499        -3e+05  1.46e+05\n",
      "72            -5.475e+05   1.63e+05     -3.364      0.001     -8.67e+05 -2.28e+05\n",
      "73            -8.637e+04    1.1e+05     -0.783      0.434     -3.03e+05   1.3e+05\n",
      "74              1.92e+05   9.85e+04      1.949      0.051     -1119.385  3.85e+05\n",
      "75            -1.606e+05   1.47e+05     -1.096      0.273     -4.48e+05  1.27e+05\n",
      "76            -8.307e+04   1.69e+05     -0.490      0.624     -4.15e+05  2.49e+05\n",
      "77             9.633e+04   1.14e+05      0.847      0.397     -1.27e+05  3.19e+05\n",
      "78            -1.174e+05   9.65e+04     -1.216      0.224     -3.07e+05  7.19e+04\n",
      "79             3.238e+05    1.1e+05      2.956      0.003      1.09e+05  5.39e+05\n",
      "80            -6.694e+05   1.52e+05     -4.396      0.000     -9.68e+05 -3.71e+05\n",
      "81             -2.05e+05   1.31e+05     -1.565      0.118     -4.62e+05  5.18e+04\n",
      "82            -1.548e+05   1.48e+05     -1.046      0.296     -4.45e+05  1.35e+05\n",
      "83             2.975e+05   1.92e+05      1.548      0.122     -7.93e+04  6.74e+05\n",
      "84            -3.575e+05   1.38e+05     -2.591      0.010     -6.28e+05  -8.7e+04\n",
      "85             4.595e+05   1.25e+05      3.686      0.000      2.15e+05  7.04e+05\n",
      "86            -8.645e+04   1.53e+05     -0.566      0.572     -3.86e+05  2.13e+05\n",
      "87             2.183e+05    1.4e+05      1.564      0.118     -5.54e+04  4.92e+05\n",
      "88            -2.817e+04   1.84e+05     -0.153      0.878     -3.89e+05  3.33e+05\n",
      "89             6.216e+04   1.44e+05      0.432      0.666      -2.2e+05  3.44e+05\n",
      "90             3.126e+05   1.79e+05      1.749      0.080     -3.79e+04  6.63e+05\n",
      "91             6.432e+05   1.57e+05      4.093      0.000      3.35e+05  9.51e+05\n",
      "92            -1.265e+05   1.44e+05     -0.879      0.379     -4.09e+05  1.56e+05\n",
      "93            -2.711e+05   1.28e+05     -2.113      0.035     -5.23e+05 -1.95e+04\n",
      "94             8.485e+04   1.35e+05      0.628      0.530      -1.8e+05   3.5e+05\n",
      "95             -2.82e+05    1.8e+05     -1.570      0.117     -6.34e+05  7.03e+04\n",
      "96            -1.743e+05    2.2e+05     -0.793      0.428     -6.05e+05  2.57e+05\n",
      "97             2.976e+05    2.5e+05      1.192      0.234     -1.92e+05  7.87e+05\n",
      "98             1.678e+05   1.93e+05      0.868      0.386     -2.11e+05  5.47e+05\n",
      "99            -2.484e+05   1.52e+05     -1.638      0.102     -5.46e+05  4.89e+04\n",
      "100            8.292e+04   2.47e+05      0.336      0.737     -4.01e+05  5.67e+05\n",
      "101            5.452e+05   1.96e+05      2.787      0.005      1.62e+05  9.29e+05\n",
      "102           -2.563e+05    2.2e+05     -1.164      0.244     -6.88e+05  1.75e+05\n",
      "103           -1.203e+05   2.01e+05     -0.598      0.550     -5.15e+05  2.74e+05\n",
      "104           -2.593e+04   1.96e+05     -0.132      0.895     -4.11e+05  3.59e+05\n",
      "105            1.019e+05   2.02e+05      0.503      0.615     -2.95e+05  4.99e+05\n",
      "106            5.797e+05   2.49e+05      2.325      0.020      9.09e+04  1.07e+06\n",
      "107           -1.932e+05   2.63e+05     -0.734      0.463     -7.09e+05  3.23e+05\n",
      "108            2.593e+05   1.64e+05      1.577      0.115      -6.3e+04  5.82e+05\n",
      "109           -4.252e+05   1.88e+05     -2.266      0.024     -7.93e+05 -5.73e+04\n",
      "110            7.186e+04   1.65e+05      0.435      0.663     -2.52e+05  3.95e+05\n",
      "111            1.043e+05   1.79e+05      0.583      0.560     -2.46e+05  4.55e+05\n",
      "112           -8.845e+05    2.3e+05     -3.851      0.000     -1.33e+06 -4.34e+05\n",
      "113            6434.9061   2.75e+05      0.023      0.981     -5.32e+05  5.45e+05\n",
      "114           -9.515e+05   2.27e+05     -4.188      0.000      -1.4e+06 -5.06e+05\n",
      "115           -5.226e+04   3.16e+05     -0.165      0.869     -6.72e+05  5.68e+05\n",
      "116           -1.516e+05   1.94e+05     -0.783      0.434     -5.31e+05  2.28e+05\n",
      "117           -7.769e+04   2.27e+05     -0.343      0.732     -5.22e+05  3.67e+05\n",
      "118           -8.348e+05   3.68e+05     -2.266      0.024     -1.56e+06 -1.13e+05\n",
      "119           -2.349e+05   2.19e+05     -1.074      0.283     -6.64e+05  1.94e+05\n",
      "120            3.577e+05   2.95e+05      1.213      0.225      -2.2e+05  9.36e+05\n",
      "121            1.672e+05   2.55e+05      0.655      0.513     -3.34e+05  6.68e+05\n",
      "122            5.785e+05   3.36e+05      1.724      0.085     -7.96e+04  1.24e+06\n",
      "123            5.524e+05   2.43e+05      2.274      0.023      7.62e+04  1.03e+06\n",
      "124            1.358e+06      4e+05      3.398      0.001      5.74e+05  2.14e+06\n",
      "125           -3.033e+04   2.72e+05     -0.112      0.911     -5.64e+05  5.03e+05\n",
      "126            1.207e+06   3.09e+05      3.906      0.000      6.01e+05  1.81e+06\n",
      "127            5.634e+05   3.62e+05      1.558      0.119     -1.45e+05  1.27e+06\n",
      "128            3.201e+05   2.58e+05      1.243      0.214     -1.85e+05  8.25e+05\n",
      "129           -4.627e+05   3.45e+05     -1.342      0.180     -1.14e+06  2.13e+05\n",
      "130            1.114e+06   2.82e+05      3.942      0.000       5.6e+05  1.67e+06\n",
      "131           -2.829e+05   3.33e+05     -0.850      0.396     -9.36e+05   3.7e+05\n",
      "132            5.068e+05   3.92e+05      1.291      0.197     -2.63e+05  1.28e+06\n",
      "133           -6.699e+05   5.07e+05     -1.322      0.186     -1.66e+06  3.24e+05\n",
      "134           -7.029e+05    4.4e+05     -1.599      0.110     -1.57e+06  1.59e+05\n",
      "135            1.927e+05   4.47e+05      0.431      0.666     -6.83e+05  1.07e+06\n",
      "136            1.012e+05   4.22e+05      0.240      0.810     -7.26e+05  9.28e+05\n",
      "137           -2.728e+05   4.65e+05     -0.587      0.558     -1.18e+06  6.39e+05\n",
      "138           -4.837e+05   3.98e+05     -1.216      0.224     -1.26e+06  2.96e+05\n",
      "139           -1.408e+05   3.63e+05     -0.387      0.698     -8.53e+05  5.72e+05\n",
      "140            1.214e+05   3.62e+05      0.335      0.737     -5.89e+05  8.31e+05\n",
      "141            8.116e+05   4.44e+05      1.826      0.068     -5.98e+04  1.68e+06\n",
      "142            1.592e+05   4.92e+05      0.324      0.746     -8.05e+05  1.12e+06\n",
      "143           -7.229e+05    3.5e+05     -2.065      0.039     -1.41e+06 -3.64e+04\n",
      "144           -5.186e+05   4.18e+05     -1.241      0.215     -1.34e+06  3.01e+05\n",
      "145            2.778e+05   4.34e+05      0.641      0.522     -5.73e+05  1.13e+06\n",
      "146            8.835e+05   4.35e+05      2.032      0.042      3.07e+04  1.74e+06\n",
      "147           -8.458e+05   4.68e+05     -1.808      0.071     -1.76e+06  7.15e+04\n",
      "148           -3.186e+05   3.77e+05     -0.845      0.398     -1.06e+06   4.2e+05\n",
      "149            1.237e+05    3.5e+05      0.353      0.724     -5.63e+05   8.1e+05\n",
      "150            2.617e+05   3.75e+05      0.697      0.486     -4.74e+05  9.97e+05\n",
      "151            7.622e+05   4.47e+05      1.703      0.089     -1.15e+05  1.64e+06\n",
      "152           -6.783e+05   5.86e+05     -1.158      0.247     -1.83e+06  4.71e+05\n",
      "153           -7.336e+05   3.79e+05     -1.935      0.053     -1.48e+06  9741.120\n",
      "154           -7.282e+05   3.75e+05     -1.942      0.052     -1.46e+06  7197.568\n",
      "155           -7.237e+04   3.83e+05     -0.189      0.850     -8.23e+05  6.78e+05\n",
      "156            2.081e+05   2.44e+05      0.851      0.395     -2.71e+05  6.87e+05\n",
      "157           -7.983e+05   4.99e+05     -1.599      0.110     -1.78e+06  1.81e+05\n",
      "158           -8.155e+05   2.98e+05     -2.741      0.006      -1.4e+06 -2.32e+05\n",
      "159           -8.534e+04   2.54e+05     -0.336      0.737     -5.84e+05  4.13e+05\n",
      "160            5.611e+05   3.97e+05      1.412      0.158     -2.18e+05  1.34e+06\n",
      "161           -3.591e-08   3.38e-08     -1.063      0.288     -1.02e-07  3.03e-08\n",
      "==============================================================================\n",
      "Omnibus:                     2982.902   Durbin-Watson:                   2.270\n",
      "Prob(Omnibus):                  0.000   Jarque-Bera (JB):          3181571.601\n",
      "Skew:                           4.037   Prob(JB):                         0.00\n",
      "Kurtosis:                     165.261   Cond. No.                     1.09e+16\n",
      "==============================================================================\n",
      "\n",
      "Warnings:\n",
      "[1] Standard Errors assume that the covariance matrix of the errors is correctly specified.\n",
      "[2] The smallest eigenvalue is 7.04e-22. This might indicate that there are\n",
      "strong multicollinearity problems or that the design matrix is singular.\n"
     ]
    }
   ],
   "source": [
    "REmodel311=sm.OLS(REsample1.sale_price,sm.add_constant(REsample1[base_columns+list_311]),missing=\"drop\").fit()\n",
    "print REmodel311.summary()"
   ]
  },
  {
   "cell_type": "markdown",
   "metadata": {},
   "source": [
    "#### R2 went over 50%. Should we consider this as success?"
   ]
  },
  {
   "cell_type": "code",
   "execution_count": 38,
   "metadata": {
    "collapsed": true
   },
   "outputs": [],
   "source": [
    "#recall we have two more samples of houses\n",
    "REsample2=REsample2.merge(data311P,left_on='zip_code',right_index=True)\n",
    "REsample3=REsample3.merge(data311P,left_on='zip_code',right_index=True)"
   ]
  },
  {
   "cell_type": "code",
   "execution_count": 39,
   "metadata": {},
   "outputs": [
    {
     "name": "stdout",
     "output_type": "stream",
     "text": [
      "IS/OS R-squared:0.528/0.101\n"
     ]
    }
   ],
   "source": [
    "#compare R2 over the training sample and the test sample (REsample3)\n",
    "R_IS=REmodel311.rsquared\n",
    "Ypred3=REmodel311.predict(sm.add_constant(REsample3[base_columns+list_311]))\n",
    "R_OS=1-((np.asarray(Ypred3)-REsample3.sale_price)**2).sum()/((REsample3.sale_price-np.mean(REsample3.sale_price))**2).sum()\n",
    "print(\"IS/OS R-squared:%.3f/%.3f\"%(R_IS,R_OS))"
   ]
  },
  {
   "cell_type": "markdown",
   "metadata": {},
   "source": [
    "R2 over the third sample is much lower- the model is not generalizeable. Severe overfitting encountered"
   ]
  },
  {
   "cell_type": "markdown",
   "metadata": {},
   "source": [
    "Let's track how its happening while we keep adding variables"
   ]
  },
  {
   "cell_type": "code",
   "execution_count": 40,
   "metadata": {},
   "outputs": [
    {
     "data": {
      "image/png": "[encoded data removed]",
      "text/plain": [
       "<matplotlib.figure.Figure at 0x10a1c25d0>"
      ]
     },
     "metadata": {},
     "output_type": "display_data"
    }
   ],
   "source": [
    "#In the sample test\n",
    "OLS_R_2_IS=[] # make a list to store our in the sample R_squared\n",
    "OLS_R_2_OS=[] #make a list to store our out the sample R_squared\n",
    "var_list=base_columns+list_311\n",
    "\n",
    "# A loop to run OLS while adding 311 regressors one by one\n",
    "nvariables=range(3,100)#len(var_list)+1)\n",
    "for j in nvariables: \n",
    "    model=sm.OLS(REsample1.sale_price,sm.add_constant(REsample1[var_list[:j]]),missing=\"drop\").fit()\n",
    "    OLS_R_2_IS.append(model.rsquared)\n",
    "    #Out of the sample test\n",
    "    Ypred2=model.predict(sm.add_constant(REsample2[var_list[:j]]))\n",
    "    R_OS=1-((np.asarray(Ypred2)-REsample2.sale_price)**2).sum()/((REsample2.sale_price-np.mean(REsample2.sale_price))**2).sum()\n",
    "    if R_OS<0: #cut negative values\n",
    "        R_OS=0\n",
    "    OLS_R_2_OS.append(R_OS)\n",
    "    \n",
    "#visualize \n",
    "plt.title('In sample/out of sample R-squared vs number of regressors')\n",
    "plt.plot(nvariables,OLS_R_2_IS,'r',label='IS_R_squared')\n",
    "plt.plot(nvariables,OLS_R_2_OS,'b',label='OS_R_squared')\n",
    "plt.legend(loc='upper left')\n",
    "plt.xlabel('Number of regressors')\n",
    "plt.ylabel('R-squared')\n",
    "plt.draw()"
   ]
  },
  {
   "cell_type": "markdown",
   "metadata": {},
   "source": [
    "## Regularization"
   ]
  },
  {
   "cell_type": "markdown",
   "metadata": {},
   "source": [
    "When fitting a linear regression with multiple features $x=(x^1,x^2,...,x^n)$ \n",
    "$$\n",
    "y\\sim w^T x\n",
    "$$\n",
    "the model might become complex and susceptible to overfitting. Complexity often comes with coefficients $w$ growing large in absolute values.\n",
    "\n",
    "One way to reduce complexity is to penalize regression for the magnitude of the coefficients $w=(w^1,w^2,...,w^n)$, which can be measured by\n",
    "$$\n",
    "||w||_1=\\sum\\limits_j |w^j|\n",
    "$$\n",
    "or by \n",
    "$$\n",
    "||w||_2^2=\\sum\\limits_j (w^j)^2\n",
    "$$\n",
    "So instead of simply minimizing \n",
    "$$\n",
    "RSS(w)=\\sum\\limits_j (y_j-w^T x_j)^2\n",
    "$$\n",
    "where $x_j, y_j$ are observations for regressors and output variable, we minimize\n",
    "$$\n",
    "RSS(w)+\\lambda ||w||_2^2=RSS(w)+\\lambda \\sum\\limits_j (w^j)^2\\to\\min\\hspace{10ex}(Ridge)\n",
    "$$\n",
    "or\n",
    "$$\n",
    "RSS(w)+\\lambda ||w||_1=RSS(w)+\\lambda \\sum\\limits_j \\left|w^j\\right|\\to\\min\\hspace{10ex}(Lasso)\n",
    "$$"
   ]
  },
  {
   "cell_type": "markdown",
   "metadata": {},
   "source": [
    "The first model is known as Ridge, the second - as Lasso (least absolute shrinkage and selection operator) regularized regression.\n",
    "\n",
    "Both Ridge and Lasso could be shown to be equivalent to a constrained minimization of $RSS$:\n",
    "\n",
    "$$\n",
    "RSS(w)\\to min, \\ ||w||_p\\leq \\alpha,\n",
    "$$\n",
    "\n",
    "with $p=1,2$ respectively, although analytic relation between constants $\\alpha$ and $\\lambda$ is somewhat nontrivial. In practice however the choice of $\\lambda$ or $\\alpha$ is usually empirical anyway, so both regularized or constrained forms of the optimization problem are equally applicable."
   ]
  },
  {
   "cell_type": "markdown",
   "metadata": {},
   "source": [
    "Optimization problems (Ridge) and (Lasso) tend to minimize $RSS$ at the same time penalizing the regression for having $||w||$ too large (regularization) which often leads to the model complexity through multiple regressors with large coefficients canceling effect of each other. So in a sense Lasso and Ridge are trying to avoid this situation, looking for relatively simple \"regular\" models with best possible fit. \n",
    "\n",
    "** NOTICE ** As the order of magnitude of $w^j$ is directly related to the scale of the regressors, it is practical to rescale them (e.g. by standardizing) to make sure the $w^j$ are comparable in scale. Otherwise penalization terms directly mixing components $w^j$ of different, sometimes incomparable, scale do not make too much sense.\n",
    "\n",
    "From Bayesian standpoint (for those familiar with Bayesian inference) Lasso and Ridge simply perform the regression with the prior belief that all the components of the $w$ are limited through the fixed variance of the priors. Such a belief affects the final outcome of the model making solutions with large $||w||$ to be particularly unlikely.\n",
    "\n",
    "This helps Ridge and Lasso to fight overfitting also dealing with multicollinearity of regressors to some extent, preventing from learning noise through particularly complex \"unnatural\" combinations of the regressors.\n",
    "\n",
    "Ridge regression admits solution in the closed form (consider partial derivatives of the objective function with respect to $w_j$):\n",
    "\n",
    "$$\n",
    "\\hat{w}=(X^T X+\\lambda I)^{-1}X^T Y, \\hspace{5ex}(Ridge\\ solution)\n",
    "$$\n",
    "\n",
    "where $I$ is the identity $n\\times n$ matrix, while $n$ being the number of regressors. The formulae (Ridge solution) shows that the Ridge regression can in theory deal with the case of multicollinearity, when the matrix $X^T X$ is singular and OLS estimate does not exist.\n",
    "\n",
    "Lasso does not admit solution in the closed form and requires numerical methods (like subgradient methods) to be fit. \n",
    "Lasso however has an advantage of being often able to completely eliminate impact of certain irrelevant regressors setting the corresponding slope coefficients to zero.  "
   ]
  },
  {
   "cell_type": "code",
   "execution_count": 41,
   "metadata": {},
   "outputs": [
    {
     "name": "stdout",
     "output_type": "stream",
     "text": [
      "The In-sample R-squared for Ridge is: 0.527387608464\n",
      "The Out-of-sample R-squared for Ridge: 0.147256947068\n"
     ]
    }
   ],
   "source": [
    "Ridge=linear_model.Ridge(fit_intercept=True, alpha=1) #try Ridge with an arbitrary regularization parameter alpha=1\n",
    "\n",
    "Ridge.fit(REsample1[var_list],REsample1.sale_price)\n",
    "# In the sample:\n",
    "Ypred1=Ridge.predict(REsample1[var_list])\n",
    "R_IS=1-((np.asarray(Ypred1)-REsample1.sale_price)**2).sum()/((REsample1.sale_price-np.mean(REsample1.sale_price))**2).sum()\n",
    "print(\"The In-sample R-squared for Ridge is: {0}\".format(R_IS))\n",
    "\n",
    "Ridge_coef=Ridge.coef_\n",
    "\n",
    "#Out of sample (use REsample2 as a validation sample first as we'll be tuning alpha)\n",
    "YPred2=Ridge.predict(REsample2[var_list])\n",
    "R_OS=1-((np.asarray(YPred2)-REsample2.sale_price)**2).sum()/((REsample2.sale_price-np.mean(REsample2.sale_price))**2).sum()\n",
    "print(\"The Out-of-sample R-squared for Ridge: {0}\".format(R_OS))"
   ]
  },
  {
   "cell_type": "code",
   "execution_count": 42,
   "metadata": {},
   "outputs": [
    {
     "data": {
      "text/plain": [
       "array([  1.06709232e+02,   1.45196922e+01,   8.34696870e+02,\n",
       "         2.51390137e+05,   1.89205800e+05,   3.03358647e+05,\n",
       "        -2.28586367e+05,   5.50610039e+05,  -2.52722969e+05,\n",
       "        -3.64301149e+05,  -1.73890442e+05,   2.69166940e+05])"
      ]
     },
     "execution_count": 42,
     "metadata": {},
     "output_type": "execute_result"
    }
   ],
   "source": [
    "Ridge_coef[0:12]"
   ]
  },
  {
   "cell_type": "code",
   "execution_count": 43,
   "metadata": {},
   "outputs": [
    {
     "name": "stdout",
     "output_type": "stream",
     "text": [
      "The In-sample R-squared for Lasso is: 0.527387608464\n",
      "The Out-of-sample R-squared for Lasso: 0.12599431024\n"
     ]
    },
    {
     "name": "stderr",
     "output_type": "stream",
     "text": [
      "/Library/Frameworks/Python.framework/Versions/2.7/lib/python2.7/site-packages/sklearn/linear_model/coordinate_descent.py:479: ConvergenceWarning: Objective did not converge. You might want to increase the number of iterations. Fitting data with very small alpha may cause precision problems.\n",
      "  ConvergenceWarning)\n"
     ]
    }
   ],
   "source": [
    "Lasso=linear_model.Lasso(fit_intercept=True, alpha=1) #try Lasso with an arbitrary regularization parameter alpha=1\n",
    "\n",
    "Lasso.fit(REsample1[var_list],REsample1.sale_price)\n",
    "# In the sample:\n",
    "YPred1=Lasso.predict(REsample1[var_list])\n",
    "R_IS=1-((np.asarray(Ypred1)-REsample1.sale_price)**2).sum()/((REsample1.sale_price-np.mean(REsample1.sale_price))**2).sum()\n",
    "print(\"The In-sample R-squared for Lasso is: {0}\".format(R_IS))\n",
    "\n",
    "Lasso_coef=Lasso.coef_\n",
    "\n",
    "#Out of sample (use REsample2 as a validation sample first as we'll be tuning alpha)\n",
    "YPred2=Lasso.predict(REsample2[var_list])\n",
    "R_OS=1-((np.asarray(YPred2)-REsample2.sale_price)**2).sum()/((REsample2.sale_price-np.mean(REsample2.sale_price))**2).sum()\n",
    "print(\"The Out-of-sample R-squared for Lasso: {0}\".format(R_OS))"
   ]
  },
  {
   "cell_type": "code",
   "execution_count": 44,
   "metadata": {},
   "outputs": [
    {
     "data": {
      "text/plain": [
       "array([  1.04347806e+02,   1.47639393e+01,   8.54261819e+02,\n",
       "         2.48073468e+05,   1.59884271e+05,   4.37079158e+05,\n",
       "        -1.47819651e+05,   2.61752538e+05,  -1.44143660e+05,\n",
       "        -4.13954134e+04,  -2.26714337e+05,   9.93441722e+04])"
      ]
     },
     "execution_count": 44,
     "metadata": {},
     "output_type": "execute_result"
    }
   ],
   "source": [
    "Lasso_coef[0:12]"
   ]
  },
  {
   "cell_type": "code",
   "execution_count": 45,
   "metadata": {
    "collapsed": true
   },
   "outputs": [],
   "source": [
    "#Find the Alpha and report best test performance for Ridge/Lasso.\n",
    "def Regularization_fit_alpha(model,X_train,y_train,X_valid,y_valid,alphas,Graph=False, logl=False):\n",
    "    #model = 1-Ridge, 2-Lasso\n",
    "    #lambdas: a list of lambda values to try\n",
    "    #p: ratio of the validation sample size / total training size\n",
    "    #Graph: plot the graph of R^2 values for different lambda\n",
    "\n",
    "    R_2_OS=[]\n",
    "    \n",
    "    if model==1:\n",
    "        RM = lambda a: linear_model.Ridge(fit_intercept=True, alpha=a)\n",
    "        model_label='Ridge'\n",
    "    else:\n",
    "        RM = lambda a: linear_model.Lasso(fit_intercept=True, alpha=a)\n",
    "        model_label='Lasso'\n",
    "    \n",
    "    best_R2 = -1\n",
    "    best_alpha = alphas[0]\n",
    "    \n",
    "    for i in alphas:\n",
    "        lm = RM(i)\n",
    "        lm.fit(X_train,y_train)  #fit the regularization model\n",
    "        y_predict=lm.predict(X_valid) #compute the prediction for the validation sample \n",
    "        err_OS=y_predict-y_valid\n",
    "        R_2_OS_=1-np.var(err_OS)/np.var(y_valid)\n",
    "        R_2_OS.append(R_2_OS_)\n",
    "        if R_2_OS_ > best_R2:\n",
    "            best_R2 = R_2_OS_\n",
    "            best_alpha = i\n",
    "    \n",
    "    if Graph==True:\n",
    "        plt.title('OS-R-squared for different Alpha')\n",
    "        if logl:\n",
    "            plt.xlabel('ln(Alpha)')\n",
    "            l=np.log(alphas)\n",
    "            bl=np.log(best_alpha)\n",
    "        else:\n",
    "            plt.xlabel('Alpha')\n",
    "            l=alphas\n",
    "            bl=best_alpha\n",
    "        plt.plot(l,R_2_OS,'b',label=model_label)\n",
    "        plt.legend(loc='upper right')\n",
    "        plt.ylabel('R-squared')\n",
    "        plt.axvline(bl,color='r',linestyle='--')\n",
    "\n",
    "        plt.show()\n",
    "    \n",
    "    return (best_alpha, best_R2)"
   ]
  },
  {
   "cell_type": "code",
   "execution_count": 57,
   "metadata": {
    "collapsed": true
   },
   "outputs": [],
   "source": [
    "var_list_=var_list[:100]"
   ]
  },
  {
   "cell_type": "code",
   "execution_count": 58,
   "metadata": {},
   "outputs": [
    {
     "data": {
      "image/png": "[encoded data removed]",
      "text/plain": [
       "<matplotlib.figure.Figure at 0x10bbd5050>"
      ]
     },
     "metadata": {},
     "output_type": "display_data"
    },
    {
     "name": "stdout",
     "output_type": "stream",
     "text": [
      "Optimal alpha for Ridge=936.45855262, R2=0.250543946352\n"
     ]
    }
   ],
   "source": [
    "alphas = np.exp(np.linspace(-10,10,20))\n",
    "alpha_r_optimal,best_R2=Regularization_fit_alpha(1,REsample1[var_list_],REsample1.sale_price,REsample2[var_list_],REsample2.sale_price,alphas,Graph=True,logl=True)\n",
    "print('Optimal alpha for Ridge={0}, R2={1}'.format(alpha_r_optimal,best_R2))"
   ]
  },
  {
   "cell_type": "code",
   "execution_count": 59,
   "metadata": {},
   "outputs": [
    {
     "data": {
      "image/png": "[encoded data removed]",
      "text/plain": [
       "<matplotlib.figure.Figure at 0x10a149dd0>"
      ]
     },
     "metadata": {},
     "output_type": "display_data"
    },
    {
     "name": "stdout",
     "output_type": "stream",
     "text": [
      "Optimal alpha for Lasso=26171.1723789, R2=0.241539266265\n"
     ]
    }
   ],
   "source": [
    "alphas = np.exp(np.linspace(1,20,30))\n",
    "alpha_l_optimal,best_R2=Regularization_fit_alpha(2,REsample1[var_list_],REsample1.sale_price,REsample2[var_list_],REsample2.sale_price,alphas,Graph=True,logl=True)\n",
    "print('Optimal alpha for Lasso={0}, R2={1}'.format(alpha_l_optimal,best_R2))"
   ]
  },
  {
   "cell_type": "markdown",
   "metadata": {},
   "source": [
    "So while Lasso and Ridge can help reduce overfitting "
   ]
  },
  {
   "cell_type": "code",
   "execution_count": 60,
   "metadata": {},
   "outputs": [
    {
     "name": "stdout",
     "output_type": "stream",
     "text": [
      "The In-sample R-squared for Lasso is: 0.527387608464\n",
      "The Out-of-sample R-squared for Lasso: 0.241471202297\n"
     ]
    }
   ],
   "source": [
    "Lasso=linear_model.Lasso(fit_intercept=True, alpha=alpha_l_optimal) #try Lasso with an arbitrary regularization parameter alpha=1\n",
    "\n",
    "Lasso.fit(REsample1[var_list_],REsample1.sale_price)\n",
    "# In the sample:\n",
    "YPred1=Lasso.predict(REsample1[var_list_])\n",
    "R_IS=1-((np.asarray(Ypred1)-REsample1.sale_price)**2).sum()/((REsample1.sale_price-np.mean(REsample1.sale_price))**2).sum()\n",
    "print(\"The In-sample R-squared for Lasso is: {0}\".format(R_IS))\n",
    "\n",
    "Lasso_coef=Lasso.coef_\n",
    "\n",
    "#Out of sample (use REsample2 as a validation sample first as we'll be tuning alpha)\n",
    "YPred2=Lasso.predict(REsample2[var_list_])\n",
    "R_OS=1-((np.asarray(YPred2)-REsample2.sale_price)**2).sum()/((REsample2.sale_price-np.mean(REsample2.sale_price))**2).sum()\n",
    "print(\"The Out-of-sample R-squared for Lasso: {0}\".format(R_OS))"
   ]
  },
  {
   "cell_type": "code",
   "execution_count": 61,
   "metadata": {},
   "outputs": [
    {
     "data": {
      "text/plain": [
       "array([  2.18576138e+02,  -2.82035894e+00,  -6.31526615e+02,\n",
       "         2.25664204e+05,   1.65604867e+05,   0.00000000e+00,\n",
       "         0.00000000e+00,   7.90942479e+04,   0.00000000e+00,\n",
       "         0.00000000e+00,  -1.32716625e+05,   0.00000000e+00,\n",
       "        -0.00000000e+00,   3.56480988e+04,  -1.15019163e+05,\n",
       "         0.00000000e+00,   1.37486254e+04,   0.00000000e+00,\n",
       "         9.48724027e+03,  -2.44739647e+04,  -1.49614994e+04,\n",
       "         9.96686409e+04,  -0.00000000e+00,   1.79205848e+04,\n",
       "         3.10032389e+04,  -5.62803779e+03,  -0.00000000e+00,\n",
       "         0.00000000e+00,   0.00000000e+00,   0.00000000e+00,\n",
       "        -0.00000000e+00,   5.54630884e+04,  -3.44551401e+03,\n",
       "         3.95990810e+04,   0.00000000e+00,   5.64817845e+04,\n",
       "         0.00000000e+00,   0.00000000e+00,   0.00000000e+00,\n",
       "        -0.00000000e+00,  -0.00000000e+00,   0.00000000e+00,\n",
       "         0.00000000e+00,  -5.38635462e+04,  -0.00000000e+00,\n",
       "         4.54725677e+03,  -0.00000000e+00,   0.00000000e+00,\n",
       "         0.00000000e+00,  -0.00000000e+00,   5.09677311e+04,\n",
       "         0.00000000e+00,   0.00000000e+00,   4.26193467e+03,\n",
       "         2.24084085e+04,   1.01802309e+05,  -7.31028543e+02,\n",
       "         0.00000000e+00,  -0.00000000e+00,   0.00000000e+00,\n",
       "        -0.00000000e+00,  -0.00000000e+00,  -0.00000000e+00,\n",
       "         0.00000000e+00,   0.00000000e+00,   5.71621630e+04,\n",
       "         0.00000000e+00,   0.00000000e+00,  -0.00000000e+00,\n",
       "        -0.00000000e+00,   0.00000000e+00,  -0.00000000e+00,\n",
       "        -3.55464559e+04,  -0.00000000e+00,  -0.00000000e+00,\n",
       "        -0.00000000e+00,   0.00000000e+00,   0.00000000e+00,\n",
       "        -0.00000000e+00,  -0.00000000e+00,   0.00000000e+00,\n",
       "         0.00000000e+00,   0.00000000e+00,  -5.35224290e+04,\n",
       "        -0.00000000e+00,  -0.00000000e+00,   0.00000000e+00,\n",
       "        -0.00000000e+00,   1.28040004e+05,  -0.00000000e+00,\n",
       "         0.00000000e+00,   0.00000000e+00,  -0.00000000e+00,\n",
       "        -0.00000000e+00,   0.00000000e+00,  -0.00000000e+00,\n",
       "         0.00000000e+00,   0.00000000e+00,  -0.00000000e+00,\n",
       "         0.00000000e+00])"
      ]
     },
     "execution_count": 61,
     "metadata": {},
     "output_type": "execute_result"
    }
   ],
   "source": [
    "Lasso_coef"
   ]
  },
  {
   "cell_type": "code",
   "execution_count": null,
   "metadata": {
    "collapsed": true
   },
   "outputs": [],
   "source": []
  }
 ],
 "metadata": {
  "anaconda-cloud": {},
  "kernelspec": {
   "display_name": "best",
   "language": "python",
   "name": "best"
  },
  "language_info": {
   "codemirror_mode": {
    "name": "ipython",
    "version": 3
   },
   "file_extension": ".py",
   "mimetype": "text/x-python",
   "name": "python",
   "nbconvert_exporter": "python",
   "pygments_lexer": "ipython3",
   "version": "3.6.6"
  }
 },
 "nbformat": 4,
 "nbformat_minor": 1
}
