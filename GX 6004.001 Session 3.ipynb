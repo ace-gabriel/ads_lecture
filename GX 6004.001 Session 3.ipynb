{
 "cells": [
  {
   "cell_type": "markdown",
   "metadata": {},
   "source": [
    "# GX 6004-001:  Applied Data Science (Session 3)"
   ]
  },
  {
   "cell_type": "markdown",
   "metadata": {},
   "source": [
    "# Cleaning Data: A (Large) Component of Data Science\n",
    "\n",
    "* The reason I discourage the use of currated datasets for the ADS project is that a large component of ADS is data cleaning and curation.\n",
    "* Necessary (and mildly unpleasant).\n",
    "* **Know your data.**\n",
    "* I want to show you some Python code to assist in data cleaning.\n",
    "* Pull some data from the web.\n",
    "* We will then turn to two curated datasets for regression with multiple features."
   ]
  },
  {
   "cell_type": "code",
   "execution_count": 1,
   "metadata": {},
   "outputs": [
    {
     "name": "stdout",
     "output_type": "stream",
     "text": [
      "Populating the interactive namespace from numpy and matplotlib\n"
     ]
    }
   ],
   "source": [
    "%pylab inline\n",
    "import matplotlib.pyplot as plt\n",
    "import numpy as np\n",
    "import pandas as pd\n",
    "import seaborn as sns\n",
    "import statsmodels as sm\n",
    "import statsmodels.formula.api as smf\n",
    "import statsmodels.api as sma\n",
    "import patsy\n",
    "from statsmodels.graphics.api import abline_plot\n",
    "import numpy.linalg as linalg\n",
    "from mpl_toolkits.mplot3d import Axes3D\n",
    "from matplotlib.colors import ListedColormap\n",
    "from sklearn import neighbors, datasets\n",
    "from tabulate import tabulate\n",
    "sns.set(context='notebook', style='whitegrid', palette='deep', font='sans-serif', font_scale=1, rc=None)"
   ]
  },
  {
   "cell_type": "markdown",
   "metadata": {},
   "source": [
    "#### Notes\n",
    "\n",
    "* These data are available on the NYC Open Data Portal: House sales in Staten Island betweeen 2003 and 2007.\n",
    "* We are going to input using Panda's ability to read Excel files.\n",
    "* We are going to 'stack' the data because each file has the same format.\n",
    "* We will then clean the data for use.\n",
    "* We will spend some time walking through the code, so you can re-use.  "
   ]
  },
  {
   "cell_type": "code",
   "execution_count": 2,
   "metadata": {},
   "outputs": [
    {
     "data": {
      "text/html": [
       "<div>\n",
       "<style scoped>\n",
       "    .dataframe tbody tr th:only-of-type {\n",
       "        vertical-align: middle;\n",
       "    }\n",
       "\n",
       "    .dataframe tbody tr th {\n",
       "        vertical-align: top;\n",
       "    }\n",
       "\n",
       "    .dataframe thead th {\n",
       "        text-align: right;\n",
       "    }\n",
       "</style>\n",
       "<table border=\"1\" class=\"dataframe\">\n",
       "  <thead>\n",
       "    <tr style=\"text-align: right;\">\n",
       "      <th></th>\n",
       "      <th>BOROUGH</th>\n",
       "      <th>NEIGHBORHOOD</th>\n",
       "      <th>BUILDING CLASS CATEGORY</th>\n",
       "      <th>TAX CLASS AT PRESENT</th>\n",
       "      <th>BLOCK</th>\n",
       "      <th>LOT</th>\n",
       "      <th>EASE-MENT</th>\n",
       "      <th>BUILDING CLASS AT PRESENT</th>\n",
       "      <th>ADDRESS</th>\n",
       "      <th>APARTMENT NUMBER</th>\n",
       "      <th>...</th>\n",
       "      <th>RESIDENTIAL UNITS</th>\n",
       "      <th>COMMERCIAL UNITS</th>\n",
       "      <th>TOTAL UNITS</th>\n",
       "      <th>LAND SQUARE FEET</th>\n",
       "      <th>GROSS SQUARE FEET</th>\n",
       "      <th>YEAR BUILT</th>\n",
       "      <th>TAX CLASS AT TIME OF SALE</th>\n",
       "      <th>BUILDING CLASS AT TIME OF SALE</th>\n",
       "      <th>SALE PRICE</th>\n",
       "      <th>SALE DATE</th>\n",
       "    </tr>\n",
       "  </thead>\n",
       "  <tbody>\n",
       "    <tr>\n",
       "      <th>0</th>\n",
       "      <td>5</td>\n",
       "      <td>ANNADALE</td>\n",
       "      <td>01  ONE FAMILY HOMES</td>\n",
       "      <td>1</td>\n",
       "      <td>5391</td>\n",
       "      <td>7</td>\n",
       "      <td></td>\n",
       "      <td>A5</td>\n",
       "      <td>4732 AMBOY ROAD</td>\n",
       "      <td></td>\n",
       "      <td>...</td>\n",
       "      <td>1</td>\n",
       "      <td>0</td>\n",
       "      <td>1</td>\n",
       "      <td>3655</td>\n",
       "      <td>1110</td>\n",
       "      <td>2002</td>\n",
       "      <td>1</td>\n",
       "      <td>A5</td>\n",
       "      <td>365040</td>\n",
       "      <td>2003-03-05</td>\n",
       "    </tr>\n",
       "    <tr>\n",
       "      <th>1</th>\n",
       "      <td>5</td>\n",
       "      <td>ANNADALE</td>\n",
       "      <td>01  ONE FAMILY HOMES</td>\n",
       "      <td>1</td>\n",
       "      <td>5391</td>\n",
       "      <td>8</td>\n",
       "      <td></td>\n",
       "      <td>A5</td>\n",
       "      <td>4730 AMBOY ROAD</td>\n",
       "      <td></td>\n",
       "      <td>...</td>\n",
       "      <td>1</td>\n",
       "      <td>0</td>\n",
       "      <td>1</td>\n",
       "      <td>3149</td>\n",
       "      <td>1110</td>\n",
       "      <td>2002</td>\n",
       "      <td>1</td>\n",
       "      <td>A5</td>\n",
       "      <td>353886</td>\n",
       "      <td>2003-01-13</td>\n",
       "    </tr>\n",
       "    <tr>\n",
       "      <th>2</th>\n",
       "      <td>5</td>\n",
       "      <td>ANNADALE</td>\n",
       "      <td>01  ONE FAMILY HOMES</td>\n",
       "      <td>1</td>\n",
       "      <td>5391</td>\n",
       "      <td>12</td>\n",
       "      <td></td>\n",
       "      <td>A5</td>\n",
       "      <td>4718 AMBOY ROAD</td>\n",
       "      <td></td>\n",
       "      <td>...</td>\n",
       "      <td>1</td>\n",
       "      <td>0</td>\n",
       "      <td>1</td>\n",
       "      <td>1746</td>\n",
       "      <td>1110</td>\n",
       "      <td>2002</td>\n",
       "      <td>1</td>\n",
       "      <td>A5</td>\n",
       "      <td>310000</td>\n",
       "      <td>2003-07-25</td>\n",
       "    </tr>\n",
       "    <tr>\n",
       "      <th>3</th>\n",
       "      <td>5</td>\n",
       "      <td>ANNADALE</td>\n",
       "      <td>01  ONE FAMILY HOMES</td>\n",
       "      <td>1</td>\n",
       "      <td>5391</td>\n",
       "      <td>13</td>\n",
       "      <td></td>\n",
       "      <td>A5</td>\n",
       "      <td>4716 AMBOY ROAD</td>\n",
       "      <td></td>\n",
       "      <td>...</td>\n",
       "      <td>1</td>\n",
       "      <td>0</td>\n",
       "      <td>1</td>\n",
       "      <td>1871</td>\n",
       "      <td>1110</td>\n",
       "      <td>2002</td>\n",
       "      <td>1</td>\n",
       "      <td>A5</td>\n",
       "      <td>299130</td>\n",
       "      <td>2003-09-05</td>\n",
       "    </tr>\n",
       "    <tr>\n",
       "      <th>4</th>\n",
       "      <td>5</td>\n",
       "      <td>ANNADALE</td>\n",
       "      <td>01  ONE FAMILY HOMES</td>\n",
       "      <td>1</td>\n",
       "      <td>5391</td>\n",
       "      <td>15</td>\n",
       "      <td></td>\n",
       "      <td>A5</td>\n",
       "      <td>4714 AMBOY ROAD</td>\n",
       "      <td></td>\n",
       "      <td>...</td>\n",
       "      <td>1</td>\n",
       "      <td>0</td>\n",
       "      <td>1</td>\n",
       "      <td>4678</td>\n",
       "      <td>1110</td>\n",
       "      <td>2002</td>\n",
       "      <td>1</td>\n",
       "      <td>A5</td>\n",
       "      <td>304099</td>\n",
       "      <td>2003-09-19</td>\n",
       "    </tr>\n",
       "  </tbody>\n",
       "</table>\n",
       "<p>5 rows × 21 columns</p>\n",
       "</div>"
      ],
      "text/plain": [
       "   BOROUGH               NEIGHBORHOOD  \\\n",
       "0        5  ANNADALE                    \n",
       "1        5  ANNADALE                    \n",
       "2        5  ANNADALE                    \n",
       "3        5  ANNADALE                    \n",
       "4        5  ANNADALE                    \n",
       "\n",
       "                        BUILDING CLASS CATEGORY TAX CLASS AT PRESENT  BLOCK  \\\n",
       "0  01  ONE FAMILY HOMES                                            1   5391   \n",
       "1  01  ONE FAMILY HOMES                                            1   5391   \n",
       "2  01  ONE FAMILY HOMES                                            1   5391   \n",
       "3  01  ONE FAMILY HOMES                                            1   5391   \n",
       "4  01  ONE FAMILY HOMES                                            1   5391   \n",
       "\n",
       "   LOT EASE-MENT BUILDING CLASS AT PRESENT  \\\n",
       "0    7                                  A5   \n",
       "1    8                                  A5   \n",
       "2   12                                  A5   \n",
       "3   13                                  A5   \n",
       "4   15                                  A5   \n",
       "\n",
       "                                     ADDRESS APARTMENT NUMBER    ...      \\\n",
       "0  4732 AMBOY ROAD                                               ...       \n",
       "1  4730 AMBOY ROAD                                               ...       \n",
       "2  4718 AMBOY ROAD                                               ...       \n",
       "3  4716 AMBOY ROAD                                               ...       \n",
       "4  4714 AMBOY ROAD                                               ...       \n",
       "\n",
       "   RESIDENTIAL UNITS  COMMERCIAL UNITS  TOTAL UNITS  LAND SQUARE FEET  \\\n",
       "0                  1                 0            1              3655   \n",
       "1                  1                 0            1              3149   \n",
       "2                  1                 0            1              1746   \n",
       "3                  1                 0            1              1871   \n",
       "4                  1                 0            1              4678   \n",
       "\n",
       "   GROSS SQUARE FEET  YEAR BUILT  TAX CLASS AT TIME OF SALE  \\\n",
       "0               1110        2002                          1   \n",
       "1               1110        2002                          1   \n",
       "2               1110        2002                          1   \n",
       "3               1110        2002                          1   \n",
       "4               1110        2002                          1   \n",
       "\n",
       "   BUILDING CLASS AT TIME OF SALE SALE PRICE  SALE DATE  \n",
       "0                              A5     365040 2003-03-05  \n",
       "1                              A5     353886 2003-01-13  \n",
       "2                              A5     310000 2003-07-25  \n",
       "3                              A5     299130 2003-09-05  \n",
       "4                              A5     304099 2003-09-19  \n",
       "\n",
       "[5 rows x 21 columns]"
      ]
     },
     "execution_count": 2,
     "metadata": {},
     "output_type": "execute_result"
    }
   ],
   "source": [
    "sales03 = pd.read_excel(\"sales_si_03.xls\", header=3, index_col=None)\n",
    "sales03.head()"
   ]
  },
  {
   "cell_type": "code",
   "execution_count": 3,
   "metadata": {},
   "outputs": [],
   "source": [
    "sales03 = pd.read_excel(\"sales_si_03.xls\", header=3, index_col=None)\n",
    "sales04 = pd.read_excel(\"sales_si_04.xls\", header=3, index_col=None)\n",
    "sales05 = pd.read_excel(\"sales_si_05.xls\", header=3, index_col=None)\n",
    "sales06 = pd.read_excel(\"sales_si_06.xls\", header=3, index_col=None)\n",
    "sales = pd.concat([sales03, sales04, sales05, sales06])"
   ]
  },
  {
   "cell_type": "code",
   "execution_count": 4,
   "metadata": {},
   "outputs": [
    {
     "data": {
      "text/html": [
       "<div>\n",
       "<style scoped>\n",
       "    .dataframe tbody tr th:only-of-type {\n",
       "        vertical-align: middle;\n",
       "    }\n",
       "\n",
       "    .dataframe tbody tr th {\n",
       "        vertical-align: top;\n",
       "    }\n",
       "\n",
       "    .dataframe thead th {\n",
       "        text-align: right;\n",
       "    }\n",
       "</style>\n",
       "<table border=\"1\" class=\"dataframe\">\n",
       "  <thead>\n",
       "    <tr style=\"text-align: right;\">\n",
       "      <th></th>\n",
       "      <th>BOROUGH</th>\n",
       "      <th>NEIGHBORHOOD</th>\n",
       "      <th>BUILDING CLASS CATEGORY</th>\n",
       "      <th>TAX CLASS AT PRESENT</th>\n",
       "      <th>BLOCK</th>\n",
       "      <th>LOT</th>\n",
       "      <th>EASE-MENT</th>\n",
       "      <th>BUILDING CLASS AT PRESENT</th>\n",
       "      <th>ADDRESS</th>\n",
       "      <th>APARTMENT NUMBER</th>\n",
       "      <th>...</th>\n",
       "      <th>RESIDENTIAL UNITS</th>\n",
       "      <th>COMMERCIAL UNITS</th>\n",
       "      <th>TOTAL UNITS</th>\n",
       "      <th>LAND SQUARE FEET</th>\n",
       "      <th>GROSS SQUARE FEET</th>\n",
       "      <th>YEAR BUILT</th>\n",
       "      <th>TAX CLASS AT TIME OF SALE</th>\n",
       "      <th>BUILDING CLASS AT TIME OF SALE</th>\n",
       "      <th>SALE PRICE</th>\n",
       "      <th>SALE DATE</th>\n",
       "    </tr>\n",
       "  </thead>\n",
       "  <tbody>\n",
       "    <tr>\n",
       "      <th>0</th>\n",
       "      <td>5</td>\n",
       "      <td>ANNADALE</td>\n",
       "      <td>01  ONE FAMILY HOMES</td>\n",
       "      <td>1</td>\n",
       "      <td>5391</td>\n",
       "      <td>7</td>\n",
       "      <td></td>\n",
       "      <td>A5</td>\n",
       "      <td>4732 AMBOY ROAD</td>\n",
       "      <td></td>\n",
       "      <td>...</td>\n",
       "      <td>1</td>\n",
       "      <td>0</td>\n",
       "      <td>1</td>\n",
       "      <td>3655</td>\n",
       "      <td>1110</td>\n",
       "      <td>2002</td>\n",
       "      <td>1</td>\n",
       "      <td>A5</td>\n",
       "      <td>365040</td>\n",
       "      <td>2003-03-05</td>\n",
       "    </tr>\n",
       "    <tr>\n",
       "      <th>1</th>\n",
       "      <td>5</td>\n",
       "      <td>ANNADALE</td>\n",
       "      <td>01  ONE FAMILY HOMES</td>\n",
       "      <td>1</td>\n",
       "      <td>5391</td>\n",
       "      <td>8</td>\n",
       "      <td></td>\n",
       "      <td>A5</td>\n",
       "      <td>4730 AMBOY ROAD</td>\n",
       "      <td></td>\n",
       "      <td>...</td>\n",
       "      <td>1</td>\n",
       "      <td>0</td>\n",
       "      <td>1</td>\n",
       "      <td>3149</td>\n",
       "      <td>1110</td>\n",
       "      <td>2002</td>\n",
       "      <td>1</td>\n",
       "      <td>A5</td>\n",
       "      <td>353886</td>\n",
       "      <td>2003-01-13</td>\n",
       "    </tr>\n",
       "    <tr>\n",
       "      <th>2</th>\n",
       "      <td>5</td>\n",
       "      <td>ANNADALE</td>\n",
       "      <td>01  ONE FAMILY HOMES</td>\n",
       "      <td>1</td>\n",
       "      <td>5391</td>\n",
       "      <td>12</td>\n",
       "      <td></td>\n",
       "      <td>A5</td>\n",
       "      <td>4718 AMBOY ROAD</td>\n",
       "      <td></td>\n",
       "      <td>...</td>\n",
       "      <td>1</td>\n",
       "      <td>0</td>\n",
       "      <td>1</td>\n",
       "      <td>1746</td>\n",
       "      <td>1110</td>\n",
       "      <td>2002</td>\n",
       "      <td>1</td>\n",
       "      <td>A5</td>\n",
       "      <td>310000</td>\n",
       "      <td>2003-07-25</td>\n",
       "    </tr>\n",
       "    <tr>\n",
       "      <th>3</th>\n",
       "      <td>5</td>\n",
       "      <td>ANNADALE</td>\n",
       "      <td>01  ONE FAMILY HOMES</td>\n",
       "      <td>1</td>\n",
       "      <td>5391</td>\n",
       "      <td>13</td>\n",
       "      <td></td>\n",
       "      <td>A5</td>\n",
       "      <td>4716 AMBOY ROAD</td>\n",
       "      <td></td>\n",
       "      <td>...</td>\n",
       "      <td>1</td>\n",
       "      <td>0</td>\n",
       "      <td>1</td>\n",
       "      <td>1871</td>\n",
       "      <td>1110</td>\n",
       "      <td>2002</td>\n",
       "      <td>1</td>\n",
       "      <td>A5</td>\n",
       "      <td>299130</td>\n",
       "      <td>2003-09-05</td>\n",
       "    </tr>\n",
       "    <tr>\n",
       "      <th>4</th>\n",
       "      <td>5</td>\n",
       "      <td>ANNADALE</td>\n",
       "      <td>01  ONE FAMILY HOMES</td>\n",
       "      <td>1</td>\n",
       "      <td>5391</td>\n",
       "      <td>15</td>\n",
       "      <td></td>\n",
       "      <td>A5</td>\n",
       "      <td>4714 AMBOY ROAD</td>\n",
       "      <td></td>\n",
       "      <td>...</td>\n",
       "      <td>1</td>\n",
       "      <td>0</td>\n",
       "      <td>1</td>\n",
       "      <td>4678</td>\n",
       "      <td>1110</td>\n",
       "      <td>2002</td>\n",
       "      <td>1</td>\n",
       "      <td>A5</td>\n",
       "      <td>304099</td>\n",
       "      <td>2003-09-19</td>\n",
       "    </tr>\n",
       "  </tbody>\n",
       "</table>\n",
       "<p>5 rows × 21 columns</p>\n",
       "</div>"
      ],
      "text/plain": [
       "   BOROUGH               NEIGHBORHOOD  \\\n",
       "0        5  ANNADALE                    \n",
       "1        5  ANNADALE                    \n",
       "2        5  ANNADALE                    \n",
       "3        5  ANNADALE                    \n",
       "4        5  ANNADALE                    \n",
       "\n",
       "                        BUILDING CLASS CATEGORY TAX CLASS AT PRESENT  BLOCK  \\\n",
       "0  01  ONE FAMILY HOMES                                            1   5391   \n",
       "1  01  ONE FAMILY HOMES                                            1   5391   \n",
       "2  01  ONE FAMILY HOMES                                            1   5391   \n",
       "3  01  ONE FAMILY HOMES                                            1   5391   \n",
       "4  01  ONE FAMILY HOMES                                            1   5391   \n",
       "\n",
       "   LOT EASE-MENT BUILDING CLASS AT PRESENT  \\\n",
       "0    7                                  A5   \n",
       "1    8                                  A5   \n",
       "2   12                                  A5   \n",
       "3   13                                  A5   \n",
       "4   15                                  A5   \n",
       "\n",
       "                                     ADDRESS APARTMENT NUMBER    ...      \\\n",
       "0  4732 AMBOY ROAD                                               ...       \n",
       "1  4730 AMBOY ROAD                                               ...       \n",
       "2  4718 AMBOY ROAD                                               ...       \n",
       "3  4716 AMBOY ROAD                                               ...       \n",
       "4  4714 AMBOY ROAD                                               ...       \n",
       "\n",
       "   RESIDENTIAL UNITS  COMMERCIAL UNITS  TOTAL UNITS  LAND SQUARE FEET  \\\n",
       "0                  1                 0            1              3655   \n",
       "1                  1                 0            1              3149   \n",
       "2                  1                 0            1              1746   \n",
       "3                  1                 0            1              1871   \n",
       "4                  1                 0            1              4678   \n",
       "\n",
       "   GROSS SQUARE FEET  YEAR BUILT  TAX CLASS AT TIME OF SALE  \\\n",
       "0               1110        2002                          1   \n",
       "1               1110        2002                          1   \n",
       "2               1110        2002                          1   \n",
       "3               1110        2002                          1   \n",
       "4               1110        2002                          1   \n",
       "\n",
       "   BUILDING CLASS AT TIME OF SALE SALE PRICE  SALE DATE  \n",
       "0                              A5     365040 2003-03-05  \n",
       "1                              A5     353886 2003-01-13  \n",
       "2                              A5     310000 2003-07-25  \n",
       "3                              A5     299130 2003-09-05  \n",
       "4                              A5     304099 2003-09-19  \n",
       "\n",
       "[5 rows x 21 columns]"
      ]
     },
     "execution_count": 4,
     "metadata": {},
     "output_type": "execute_result"
    }
   ],
   "source": [
    "sales.head()"
   ]
  },
  {
   "cell_type": "markdown",
   "metadata": {},
   "source": [
    "#### Notes\n",
    "\n",
    "* Let's examine summary statistics of the numeric features: **Know your data**.\n",
    "* Borough has mean 5.0 and standard deviation 0.  Does this make sense?\n",
    "* Block and Lot have a minimum value of 1, which is odd, as is Zip Code of 0.\n",
    "* Some houses have 0 residential units, which is also odd.\n",
    "* 0 square footage (or 0 square meters) is also odd.\n",
    "* Lots of zero price sales."
   ]
  },
  {
   "cell_type": "code",
   "execution_count": 5,
   "metadata": {},
   "outputs": [
    {
     "data": {
      "text/html": [
       "<div>\n",
       "<style scoped>\n",
       "    .dataframe tbody tr th:only-of-type {\n",
       "        vertical-align: middle;\n",
       "    }\n",
       "\n",
       "    .dataframe tbody tr th {\n",
       "        vertical-align: top;\n",
       "    }\n",
       "\n",
       "    .dataframe thead th {\n",
       "        text-align: right;\n",
       "    }\n",
       "</style>\n",
       "<table border=\"1\" class=\"dataframe\">\n",
       "  <thead>\n",
       "    <tr style=\"text-align: right;\">\n",
       "      <th></th>\n",
       "      <th>BOROUGH</th>\n",
       "      <th>BLOCK</th>\n",
       "      <th>LOT</th>\n",
       "      <th>ZIP CODE</th>\n",
       "      <th>RESIDENTIAL UNITS</th>\n",
       "      <th>COMMERCIAL UNITS</th>\n",
       "      <th>TOTAL UNITS</th>\n",
       "      <th>LAND SQUARE FEET</th>\n",
       "      <th>GROSS SQUARE FEET</th>\n",
       "      <th>YEAR BUILT</th>\n",
       "      <th>TAX CLASS AT TIME OF SALE</th>\n",
       "      <th>SALE PRICE</th>\n",
       "    </tr>\n",
       "  </thead>\n",
       "  <tbody>\n",
       "    <tr>\n",
       "      <th>count</th>\n",
       "      <td>46381.0</td>\n",
       "      <td>46381.000000</td>\n",
       "      <td>46381.000000</td>\n",
       "      <td>46381.000000</td>\n",
       "      <td>46381.000000</td>\n",
       "      <td>46381.000000</td>\n",
       "      <td>46381.000000</td>\n",
       "      <td>4.638100e+04</td>\n",
       "      <td>46381.000000</td>\n",
       "      <td>46381.000000</td>\n",
       "      <td>46381.000000</td>\n",
       "      <td>4.638100e+04</td>\n",
       "    </tr>\n",
       "    <tr>\n",
       "      <th>mean</th>\n",
       "      <td>5.0</td>\n",
       "      <td>3221.105496</td>\n",
       "      <td>186.420150</td>\n",
       "      <td>10280.586943</td>\n",
       "      <td>1.327462</td>\n",
       "      <td>0.315172</td>\n",
       "      <td>1.642634</td>\n",
       "      <td>6.192493e+03</td>\n",
       "      <td>2109.868718</td>\n",
       "      <td>1875.196675</td>\n",
       "      <td>1.158556</td>\n",
       "      <td>2.903822e+05</td>\n",
       "    </tr>\n",
       "    <tr>\n",
       "      <th>std</th>\n",
       "      <td>0.0</td>\n",
       "      <td>2360.069542</td>\n",
       "      <td>440.855935</td>\n",
       "      <td>527.980830</td>\n",
       "      <td>4.970062</td>\n",
       "      <td>26.020568</td>\n",
       "      <td>26.476876</td>\n",
       "      <td>8.657732e+04</td>\n",
       "      <td>9196.425843</td>\n",
       "      <td>421.952633</td>\n",
       "      <td>0.607804</td>\n",
       "      <td>1.116870e+06</td>\n",
       "    </tr>\n",
       "    <tr>\n",
       "      <th>min</th>\n",
       "      <td>5.0</td>\n",
       "      <td>1.000000</td>\n",
       "      <td>1.000000</td>\n",
       "      <td>0.000000</td>\n",
       "      <td>0.000000</td>\n",
       "      <td>0.000000</td>\n",
       "      <td>0.000000</td>\n",
       "      <td>0.000000e+00</td>\n",
       "      <td>0.000000</td>\n",
       "      <td>0.000000</td>\n",
       "      <td>1.000000</td>\n",
       "      <td>0.000000e+00</td>\n",
       "    </tr>\n",
       "    <tr>\n",
       "      <th>25%</th>\n",
       "      <td>5.0</td>\n",
       "      <td>1057.000000</td>\n",
       "      <td>24.000000</td>\n",
       "      <td>10304.000000</td>\n",
       "      <td>1.000000</td>\n",
       "      <td>0.000000</td>\n",
       "      <td>1.000000</td>\n",
       "      <td>1.920000e+03</td>\n",
       "      <td>1120.000000</td>\n",
       "      <td>1940.000000</td>\n",
       "      <td>1.000000</td>\n",
       "      <td>0.000000e+00</td>\n",
       "    </tr>\n",
       "    <tr>\n",
       "      <th>50%</th>\n",
       "      <td>5.0</td>\n",
       "      <td>2983.000000</td>\n",
       "      <td>53.000000</td>\n",
       "      <td>10307.000000</td>\n",
       "      <td>1.000000</td>\n",
       "      <td>0.000000</td>\n",
       "      <td>1.000000</td>\n",
       "      <td>3.000000e+03</td>\n",
       "      <td>1657.000000</td>\n",
       "      <td>1975.000000</td>\n",
       "      <td>1.000000</td>\n",
       "      <td>2.700000e+05</td>\n",
       "    </tr>\n",
       "    <tr>\n",
       "      <th>75%</th>\n",
       "      <td>5.0</td>\n",
       "      <td>5327.000000</td>\n",
       "      <td>124.000000</td>\n",
       "      <td>10312.000000</td>\n",
       "      <td>2.000000</td>\n",
       "      <td>0.000000</td>\n",
       "      <td>2.000000</td>\n",
       "      <td>4.500000e+03</td>\n",
       "      <td>2220.000000</td>\n",
       "      <td>1995.000000</td>\n",
       "      <td>1.000000</td>\n",
       "      <td>4.100000e+05</td>\n",
       "    </tr>\n",
       "    <tr>\n",
       "      <th>max</th>\n",
       "      <td>5.0</td>\n",
       "      <td>8050.000000</td>\n",
       "      <td>7502.000000</td>\n",
       "      <td>10314.000000</td>\n",
       "      <td>403.000000</td>\n",
       "      <td>4964.000000</td>\n",
       "      <td>4964.000000</td>\n",
       "      <td>1.080288e+07</td>\n",
       "      <td>881000.000000</td>\n",
       "      <td>2012.000000</td>\n",
       "      <td>4.000000</td>\n",
       "      <td>1.894423e+08</td>\n",
       "    </tr>\n",
       "  </tbody>\n",
       "</table>\n",
       "</div>"
      ],
      "text/plain": [
       "       BOROUGH         BLOCK           LOT      ZIP CODE  RESIDENTIAL UNITS  \\\n",
       "count  46381.0  46381.000000  46381.000000  46381.000000       46381.000000   \n",
       "mean       5.0   3221.105496    186.420150  10280.586943           1.327462   \n",
       "std        0.0   2360.069542    440.855935    527.980830           4.970062   \n",
       "min        5.0      1.000000      1.000000      0.000000           0.000000   \n",
       "25%        5.0   1057.000000     24.000000  10304.000000           1.000000   \n",
       "50%        5.0   2983.000000     53.000000  10307.000000           1.000000   \n",
       "75%        5.0   5327.000000    124.000000  10312.000000           2.000000   \n",
       "max        5.0   8050.000000   7502.000000  10314.000000         403.000000   \n",
       "\n",
       "       COMMERCIAL UNITS   TOTAL UNITS  LAND SQUARE FEET  GROSS SQUARE FEET  \\\n",
       "count      46381.000000  46381.000000      4.638100e+04       46381.000000   \n",
       "mean           0.315172      1.642634      6.192493e+03        2109.868718   \n",
       "std           26.020568     26.476876      8.657732e+04        9196.425843   \n",
       "min            0.000000      0.000000      0.000000e+00           0.000000   \n",
       "25%            0.000000      1.000000      1.920000e+03        1120.000000   \n",
       "50%            0.000000      1.000000      3.000000e+03        1657.000000   \n",
       "75%            0.000000      2.000000      4.500000e+03        2220.000000   \n",
       "max         4964.000000   4964.000000      1.080288e+07      881000.000000   \n",
       "\n",
       "         YEAR BUILT  TAX CLASS AT TIME OF SALE    SALE PRICE  \n",
       "count  46381.000000               46381.000000  4.638100e+04  \n",
       "mean    1875.196675                   1.158556  2.903822e+05  \n",
       "std      421.952633                   0.607804  1.116870e+06  \n",
       "min        0.000000                   1.000000  0.000000e+00  \n",
       "25%     1940.000000                   1.000000  0.000000e+00  \n",
       "50%     1975.000000                   1.000000  2.700000e+05  \n",
       "75%     1995.000000                   1.000000  4.100000e+05  \n",
       "max     2012.000000                   4.000000  1.894423e+08  "
      ]
     },
     "execution_count": 5,
     "metadata": {},
     "output_type": "execute_result"
    }
   ],
   "source": [
    "sales.describe()"
   ]
  },
  {
   "cell_type": "markdown",
   "metadata": {},
   "source": [
    "#### Notes\n",
    "\n",
    "* Note the syntax of these commands:\n",
    "    * $==$ limits the datafram to those observations that resolve as **True**.\n",
    "    * $<=$ does the same thing.\n",
    "    * $>$ does the same thing.\n",
    "* Deconstruct logical statements and the syntax.\n",
    "* Are these restrictions resonable?"
   ]
  },
  {
   "cell_type": "code",
   "execution_count": 6,
   "metadata": {},
   "outputs": [],
   "source": [
    "sales = sales[sales['RESIDENTIAL UNITS'] == 1]\n",
    "\n",
    "sales = sales[sales['COMMERCIAL UNITS'] == 0]\n",
    "\n",
    "sales = sales[sales['YEAR BUILT'] <= 2006]\n",
    "\n",
    "sales = sales[sales['LAND SQUARE FEET'] > 0]\n",
    "sales = sales[sales['GROSS SQUARE FEET'] > 0]\n",
    "sales = sales[sales['LAND SQUARE FEET'] <= 6000]\n",
    "sales = sales[sales['GROSS SQUARE FEET'] <= 4000]\n",
    "\n",
    "sales = sales[sales['TAX CLASS AT TIME OF SALE'] == 1]\n",
    "\n",
    "sales = sales[sales['SALE PRICE'] >= 1000]\n",
    "sales = sales[sales['SALE PRICE'] <= 6000000]"
   ]
  },
  {
   "cell_type": "code",
   "execution_count": 7,
   "metadata": {},
   "outputs": [
    {
     "data": {
      "text/html": [
       "<div>\n",
       "<style scoped>\n",
       "    .dataframe tbody tr th:only-of-type {\n",
       "        vertical-align: middle;\n",
       "    }\n",
       "\n",
       "    .dataframe tbody tr th {\n",
       "        vertical-align: top;\n",
       "    }\n",
       "\n",
       "    .dataframe thead th {\n",
       "        text-align: right;\n",
       "    }\n",
       "</style>\n",
       "<table border=\"1\" class=\"dataframe\">\n",
       "  <thead>\n",
       "    <tr style=\"text-align: right;\">\n",
       "      <th></th>\n",
       "      <th>BOROUGH</th>\n",
       "      <th>BLOCK</th>\n",
       "      <th>LOT</th>\n",
       "      <th>ZIP CODE</th>\n",
       "      <th>RESIDENTIAL UNITS</th>\n",
       "      <th>COMMERCIAL UNITS</th>\n",
       "      <th>TOTAL UNITS</th>\n",
       "      <th>LAND SQUARE FEET</th>\n",
       "      <th>GROSS SQUARE FEET</th>\n",
       "      <th>YEAR BUILT</th>\n",
       "      <th>TAX CLASS AT TIME OF SALE</th>\n",
       "      <th>SALE PRICE</th>\n",
       "    </tr>\n",
       "  </thead>\n",
       "  <tbody>\n",
       "    <tr>\n",
       "      <th>count</th>\n",
       "      <td>16633.0</td>\n",
       "      <td>16633.000000</td>\n",
       "      <td>16633.000000</td>\n",
       "      <td>16633.000000</td>\n",
       "      <td>16633.0</td>\n",
       "      <td>16633.0</td>\n",
       "      <td>16633.0</td>\n",
       "      <td>16633.000000</td>\n",
       "      <td>16633.000000</td>\n",
       "      <td>16633.000000</td>\n",
       "      <td>16633.0</td>\n",
       "      <td>1.663300e+04</td>\n",
       "    </tr>\n",
       "    <tr>\n",
       "      <th>mean</th>\n",
       "      <td>5.0</td>\n",
       "      <td>3439.546324</td>\n",
       "      <td>85.835147</td>\n",
       "      <td>10307.941021</td>\n",
       "      <td>1.0</td>\n",
       "      <td>0.0</td>\n",
       "      <td>1.0</td>\n",
       "      <td>2730.830698</td>\n",
       "      <td>1600.299044</td>\n",
       "      <td>1973.760777</td>\n",
       "      <td>1.0</td>\n",
       "      <td>3.541230e+05</td>\n",
       "    </tr>\n",
       "    <tr>\n",
       "      <th>std</th>\n",
       "      <td>0.0</td>\n",
       "      <td>2255.979695</td>\n",
       "      <td>98.761740</td>\n",
       "      <td>4.029228</td>\n",
       "      <td>0.0</td>\n",
       "      <td>0.0</td>\n",
       "      <td>0.0</td>\n",
       "      <td>1313.081728</td>\n",
       "      <td>545.022600</td>\n",
       "      <td>30.117280</td>\n",
       "      <td>0.0</td>\n",
       "      <td>1.549677e+05</td>\n",
       "    </tr>\n",
       "    <tr>\n",
       "      <th>min</th>\n",
       "      <td>5.0</td>\n",
       "      <td>13.000000</td>\n",
       "      <td>1.000000</td>\n",
       "      <td>10301.000000</td>\n",
       "      <td>1.0</td>\n",
       "      <td>0.0</td>\n",
       "      <td>1.0</td>\n",
       "      <td>262.000000</td>\n",
       "      <td>260.000000</td>\n",
       "      <td>1890.000000</td>\n",
       "      <td>1.0</td>\n",
       "      <td>1.000000e+03</td>\n",
       "    </tr>\n",
       "    <tr>\n",
       "      <th>25%</th>\n",
       "      <td>5.0</td>\n",
       "      <td>1228.000000</td>\n",
       "      <td>24.000000</td>\n",
       "      <td>10305.000000</td>\n",
       "      <td>1.0</td>\n",
       "      <td>0.0</td>\n",
       "      <td>1.0</td>\n",
       "      <td>1800.000000</td>\n",
       "      <td>1218.000000</td>\n",
       "      <td>1955.000000</td>\n",
       "      <td>1.0</td>\n",
       "      <td>2.700000e+05</td>\n",
       "    </tr>\n",
       "    <tr>\n",
       "      <th>50%</th>\n",
       "      <td>5.0</td>\n",
       "      <td>3319.000000</td>\n",
       "      <td>52.000000</td>\n",
       "      <td>10307.000000</td>\n",
       "      <td>1.0</td>\n",
       "      <td>0.0</td>\n",
       "      <td>1.0</td>\n",
       "      <td>2500.000000</td>\n",
       "      <td>1524.000000</td>\n",
       "      <td>1986.000000</td>\n",
       "      <td>1.0</td>\n",
       "      <td>3.484860e+05</td>\n",
       "    </tr>\n",
       "    <tr>\n",
       "      <th>75%</th>\n",
       "      <td>5.0</td>\n",
       "      <td>5458.000000</td>\n",
       "      <td>109.000000</td>\n",
       "      <td>10312.000000</td>\n",
       "      <td>1.0</td>\n",
       "      <td>0.0</td>\n",
       "      <td>1.0</td>\n",
       "      <td>3795.000000</td>\n",
       "      <td>1900.000000</td>\n",
       "      <td>1999.000000</td>\n",
       "      <td>1.0</td>\n",
       "      <td>4.240000e+05</td>\n",
       "    </tr>\n",
       "    <tr>\n",
       "      <th>max</th>\n",
       "      <td>5.0</td>\n",
       "      <td>8050.000000</td>\n",
       "      <td>930.000000</td>\n",
       "      <td>10314.000000</td>\n",
       "      <td>1.0</td>\n",
       "      <td>0.0</td>\n",
       "      <td>1.0</td>\n",
       "      <td>6000.000000</td>\n",
       "      <td>4000.000000</td>\n",
       "      <td>2006.000000</td>\n",
       "      <td>1.0</td>\n",
       "      <td>5.075000e+06</td>\n",
       "    </tr>\n",
       "  </tbody>\n",
       "</table>\n",
       "</div>"
      ],
      "text/plain": [
       "       BOROUGH         BLOCK           LOT      ZIP CODE  RESIDENTIAL UNITS  \\\n",
       "count  16633.0  16633.000000  16633.000000  16633.000000            16633.0   \n",
       "mean       5.0   3439.546324     85.835147  10307.941021                1.0   \n",
       "std        0.0   2255.979695     98.761740      4.029228                0.0   \n",
       "min        5.0     13.000000      1.000000  10301.000000                1.0   \n",
       "25%        5.0   1228.000000     24.000000  10305.000000                1.0   \n",
       "50%        5.0   3319.000000     52.000000  10307.000000                1.0   \n",
       "75%        5.0   5458.000000    109.000000  10312.000000                1.0   \n",
       "max        5.0   8050.000000    930.000000  10314.000000                1.0   \n",
       "\n",
       "       COMMERCIAL UNITS  TOTAL UNITS  LAND SQUARE FEET  GROSS SQUARE FEET  \\\n",
       "count           16633.0      16633.0      16633.000000       16633.000000   \n",
       "mean                0.0          1.0       2730.830698        1600.299044   \n",
       "std                 0.0          0.0       1313.081728         545.022600   \n",
       "min                 0.0          1.0        262.000000         260.000000   \n",
       "25%                 0.0          1.0       1800.000000        1218.000000   \n",
       "50%                 0.0          1.0       2500.000000        1524.000000   \n",
       "75%                 0.0          1.0       3795.000000        1900.000000   \n",
       "max                 0.0          1.0       6000.000000        4000.000000   \n",
       "\n",
       "         YEAR BUILT  TAX CLASS AT TIME OF SALE    SALE PRICE  \n",
       "count  16633.000000                    16633.0  1.663300e+04  \n",
       "mean    1973.760777                        1.0  3.541230e+05  \n",
       "std       30.117280                        0.0  1.549677e+05  \n",
       "min     1890.000000                        1.0  1.000000e+03  \n",
       "25%     1955.000000                        1.0  2.700000e+05  \n",
       "50%     1986.000000                        1.0  3.484860e+05  \n",
       "75%     1999.000000                        1.0  4.240000e+05  \n",
       "max     2006.000000                        1.0  5.075000e+06  "
      ]
     },
     "execution_count": 7,
     "metadata": {},
     "output_type": "execute_result"
    }
   ],
   "source": [
    "sales.describe()"
   ]
  },
  {
   "cell_type": "markdown",
   "metadata": {},
   "source": [
    "#### Notes\n",
    "* Often we only need a subset of the data and want to rename columns.\n",
    "* First line of code restricts the dataframe.\n",
    "* Second renames the features we wish to use."
   ]
  },
  {
   "cell_type": "code",
   "execution_count": 8,
   "metadata": {},
   "outputs": [],
   "source": [
    "sales = sales[['NEIGHBORHOOD', 'LAND SQUARE FEET', 'GROSS SQUARE FEET', 'YEAR BUILT', 'SALE PRICE', 'SALE DATE']]\n",
    "sales = sales.rename(columns={\"NEIGHBORHOOD\": \"nb\", \"LAND SQUARE FEET\": \"lsf\",\n",
    "                    \"GROSS SQUARE FEET\": \"gsf\", \"YEAR BUILT\": \"year\", \n",
    "                     \"SALE PRICE\": \"price\", \"SALE DATE\": 'date'})"
   ]
  },
  {
   "cell_type": "code",
   "execution_count": 9,
   "metadata": {},
   "outputs": [
    {
     "data": {
      "text/html": [
       "<div>\n",
       "<style scoped>\n",
       "    .dataframe tbody tr th:only-of-type {\n",
       "        vertical-align: middle;\n",
       "    }\n",
       "\n",
       "    .dataframe tbody tr th {\n",
       "        vertical-align: top;\n",
       "    }\n",
       "\n",
       "    .dataframe thead th {\n",
       "        text-align: right;\n",
       "    }\n",
       "</style>\n",
       "<table border=\"1\" class=\"dataframe\">\n",
       "  <thead>\n",
       "    <tr style=\"text-align: right;\">\n",
       "      <th></th>\n",
       "      <th>lsf</th>\n",
       "      <th>gsf</th>\n",
       "      <th>year</th>\n",
       "      <th>price</th>\n",
       "    </tr>\n",
       "  </thead>\n",
       "  <tbody>\n",
       "    <tr>\n",
       "      <th>count</th>\n",
       "      <td>16633.000000</td>\n",
       "      <td>16633.000000</td>\n",
       "      <td>16633.000000</td>\n",
       "      <td>1.663300e+04</td>\n",
       "    </tr>\n",
       "    <tr>\n",
       "      <th>mean</th>\n",
       "      <td>2730.830698</td>\n",
       "      <td>1600.299044</td>\n",
       "      <td>1973.760777</td>\n",
       "      <td>3.541230e+05</td>\n",
       "    </tr>\n",
       "    <tr>\n",
       "      <th>std</th>\n",
       "      <td>1313.081728</td>\n",
       "      <td>545.022600</td>\n",
       "      <td>30.117280</td>\n",
       "      <td>1.549677e+05</td>\n",
       "    </tr>\n",
       "    <tr>\n",
       "      <th>min</th>\n",
       "      <td>262.000000</td>\n",
       "      <td>260.000000</td>\n",
       "      <td>1890.000000</td>\n",
       "      <td>1.000000e+03</td>\n",
       "    </tr>\n",
       "    <tr>\n",
       "      <th>25%</th>\n",
       "      <td>1800.000000</td>\n",
       "      <td>1218.000000</td>\n",
       "      <td>1955.000000</td>\n",
       "      <td>2.700000e+05</td>\n",
       "    </tr>\n",
       "    <tr>\n",
       "      <th>50%</th>\n",
       "      <td>2500.000000</td>\n",
       "      <td>1524.000000</td>\n",
       "      <td>1986.000000</td>\n",
       "      <td>3.484860e+05</td>\n",
       "    </tr>\n",
       "    <tr>\n",
       "      <th>75%</th>\n",
       "      <td>3795.000000</td>\n",
       "      <td>1900.000000</td>\n",
       "      <td>1999.000000</td>\n",
       "      <td>4.240000e+05</td>\n",
       "    </tr>\n",
       "    <tr>\n",
       "      <th>max</th>\n",
       "      <td>6000.000000</td>\n",
       "      <td>4000.000000</td>\n",
       "      <td>2006.000000</td>\n",
       "      <td>5.075000e+06</td>\n",
       "    </tr>\n",
       "  </tbody>\n",
       "</table>\n",
       "</div>"
      ],
      "text/plain": [
       "                lsf           gsf          year         price\n",
       "count  16633.000000  16633.000000  16633.000000  1.663300e+04\n",
       "mean    2730.830698   1600.299044   1973.760777  3.541230e+05\n",
       "std     1313.081728    545.022600     30.117280  1.549677e+05\n",
       "min      262.000000    260.000000   1890.000000  1.000000e+03\n",
       "25%     1800.000000   1218.000000   1955.000000  2.700000e+05\n",
       "50%     2500.000000   1524.000000   1986.000000  3.484860e+05\n",
       "75%     3795.000000   1900.000000   1999.000000  4.240000e+05\n",
       "max     6000.000000   4000.000000   2006.000000  5.075000e+06"
      ]
     },
     "execution_count": 9,
     "metadata": {},
     "output_type": "execute_result"
    }
   ],
   "source": [
    "sales.describe()"
   ]
  },
  {
   "cell_type": "code",
   "execution_count": 10,
   "metadata": {},
   "outputs": [
    {
     "data": {
      "text/html": [
       "<div>\n",
       "<style scoped>\n",
       "    .dataframe tbody tr th:only-of-type {\n",
       "        vertical-align: middle;\n",
       "    }\n",
       "\n",
       "    .dataframe tbody tr th {\n",
       "        vertical-align: top;\n",
       "    }\n",
       "\n",
       "    .dataframe thead th {\n",
       "        text-align: right;\n",
       "    }\n",
       "</style>\n",
       "<table border=\"1\" class=\"dataframe\">\n",
       "  <thead>\n",
       "    <tr style=\"text-align: right;\">\n",
       "      <th></th>\n",
       "      <th>lsf</th>\n",
       "      <th>gsf</th>\n",
       "      <th>year</th>\n",
       "      <th>price</th>\n",
       "    </tr>\n",
       "  </thead>\n",
       "  <tbody>\n",
       "    <tr>\n",
       "      <th>lsf</th>\n",
       "      <td>1.000000</td>\n",
       "      <td>0.249074</td>\n",
       "      <td>-0.452631</td>\n",
       "      <td>0.350953</td>\n",
       "    </tr>\n",
       "    <tr>\n",
       "      <th>gsf</th>\n",
       "      <td>0.249074</td>\n",
       "      <td>1.000000</td>\n",
       "      <td>0.292993</td>\n",
       "      <td>0.378358</td>\n",
       "    </tr>\n",
       "    <tr>\n",
       "      <th>year</th>\n",
       "      <td>-0.452631</td>\n",
       "      <td>0.292993</td>\n",
       "      <td>1.000000</td>\n",
       "      <td>0.092346</td>\n",
       "    </tr>\n",
       "    <tr>\n",
       "      <th>price</th>\n",
       "      <td>0.350953</td>\n",
       "      <td>0.378358</td>\n",
       "      <td>0.092346</td>\n",
       "      <td>1.000000</td>\n",
       "    </tr>\n",
       "  </tbody>\n",
       "</table>\n",
       "</div>"
      ],
      "text/plain": [
       "            lsf       gsf      year     price\n",
       "lsf    1.000000  0.249074 -0.452631  0.350953\n",
       "gsf    0.249074  1.000000  0.292993  0.378358\n",
       "year  -0.452631  0.292993  1.000000  0.092346\n",
       "price  0.350953  0.378358  0.092346  1.000000"
      ]
     },
     "execution_count": 10,
     "metadata": {},
     "output_type": "execute_result"
    }
   ],
   "source": [
    "sales.corr()"
   ]
  },
  {
   "cell_type": "code",
   "execution_count": 11,
   "metadata": {},
   "outputs": [
    {
     "data": {
      "text/plain": [
       "(0, 1000000)"
      ]
     },
     "execution_count": 11,
     "metadata": {},
     "output_type": "execute_result"
    },
    {
     "data": {
      "image/png": "[encoded data removed]",
      "text/plain": [
       "<Figure size 720x576 with 1 Axes>"
      ]
     },
     "metadata": {
      "needs_background": "light"
     },
     "output_type": "display_data"
    }
   ],
   "source": [
    "plt.figure(figsize=(10, 8))\n",
    "plt.hist(sales['price'], bins=1000, density=True, color='blue')\n",
    "plt.title('Histogram of Sales Price (U.S. $)', fontsize=20)\n",
    "plt.ylabel('%', fontsize=8)\n",
    "plt.xlim(0, 1000000)"
   ]
  },
  {
   "cell_type": "code",
   "execution_count": 12,
   "metadata": {},
   "outputs": [
    {
     "data": {
      "text/plain": [
       "Text(0,0.5,'U.S. %')"
      ]
     },
     "execution_count": 12,
     "metadata": {},
     "output_type": "execute_result"
    },
    {
     "data": {
      "image/png": "[encoded data removed]",
      "text/plain": [
       "<Figure size 720x576 with 1 Axes>"
      ]
     },
     "metadata": {
      "needs_background": "light"
     },
     "output_type": "display_data"
    }
   ],
   "source": [
    "plt.figure(figsize=(10, 8))\n",
    "plt.scatter(sales['gsf'], sales['price'], c='b')\n",
    "plt.title('Histogram of Sales Price (U.S. $)', fontsize=20)\n",
    "plt.xlabel('Size (Square Feet)', fontsize=8)\n",
    "plt.ylabel('U.S. %', fontsize=8)"
   ]
  },
  {
   "cell_type": "markdown",
   "metadata": {},
   "source": [
    "# Accessing Data: Many Tools and Getting Easier\n",
    "\n",
    "* Using Pandas and Pandas DataReader\n",
    "* You can read about the development of Pandas, which is Python's equivalent of the R DataFrame.\n",
    "* Community has grown, spawning a 'spin off' called Pandas DataReader.\n",
    "* pip install pandas_datareader.\n",
    "* See: https://pydata.github.io/pandas-datareader/stable/whatsnew.html\n",
    "* Flexibility to access a lot of public data, including the Federal Reserve Economic Database (FRED) and Enigma IO."
   ]
  },
  {
   "cell_type": "code",
   "execution_count": 13,
   "metadata": {},
   "outputs": [],
   "source": [
    "import pandas_datareader.data as web\n",
    "import datetime\n",
    "start, end = datetime.datetime(1960, 1, 1), datetime.datetime(2018, 6, 30)\n",
    "gdp = web.DataReader('GDP', 'fred', start, end)"
   ]
  },
  {
   "cell_type": "code",
   "execution_count": 14,
   "metadata": {},
   "outputs": [
    {
     "data": {
      "text/plain": [
       "Text(0,0.5,'Million U.S. $ (Nominal)')"
      ]
     },
     "execution_count": 14,
     "metadata": {},
     "output_type": "execute_result"
    },
    {
     "data": {
      "image/png": "[encoded data removed]",
      "text/plain": [
       "<Figure size 720x576 with 1 Axes>"
      ]
     },
     "metadata": {
      "needs_background": "light"
     },
     "output_type": "display_data"
    }
   ],
   "source": [
    "gdp.plot(color='blue', figsize=(10, 8))\n",
    "plt.title('U.S. Gross Domestic Product (1960 - Present)', fontsize=20)\n",
    "plt.xlabel('Date')\n",
    "plt.ylabel('Million U.S. $ (Nominal)', fontsize=16)"
   ]
  },
  {
   "cell_type": "code",
   "execution_count": 15,
   "metadata": {},
   "outputs": [
    {
     "ename": "ModuleNotFoundError",
     "evalue": "No module named 'fredapi'",
     "output_type": "error",
     "traceback": [
      "\u001b[0;31m---------------------------------------------------------------------------\u001b[0m",
      "\u001b[0;31mModuleNotFoundError\u001b[0m                       Traceback (most recent call last)",
      "\u001b[0;32m<ipython-input-15-c2fa604133a2>\u001b[0m in \u001b[0;36m<module>\u001b[0;34m()\u001b[0m\n\u001b[0;32m----> 1\u001b[0;31m \u001b[0;32mfrom\u001b[0m \u001b[0mfredapi\u001b[0m \u001b[0;32mimport\u001b[0m \u001b[0mFred\u001b[0m\u001b[0;34m\u001b[0m\u001b[0m\n\u001b[0m\u001b[1;32m      2\u001b[0m \u001b[0mfred\u001b[0m \u001b[0;34m=\u001b[0m \u001b[0mFred\u001b[0m\u001b[0;34m(\u001b[0m\u001b[0mapi_key\u001b[0m\u001b[0;34m=\u001b[0m\u001b[0;34m'30e6ecb242a73869e11cb35f6aa3afc3'\u001b[0m\u001b[0;34m)\u001b[0m\u001b[0;34m\u001b[0m\u001b[0m\n\u001b[1;32m      3\u001b[0m \u001b[0mgdp_pc\u001b[0m \u001b[0;34m=\u001b[0m \u001b[0mfred\u001b[0m\u001b[0;34m.\u001b[0m\u001b[0mget_series\u001b[0m\u001b[0;34m(\u001b[0m\u001b[0;34m'A229RX0A048NBEA'\u001b[0m\u001b[0;34m)\u001b[0m\u001b[0;34m\u001b[0m\u001b[0m\n",
      "\u001b[0;31mModuleNotFoundError\u001b[0m: No module named 'fredapi'"
     ]
    }
   ],
   "source": [
    "from fredapi import Fred\n",
    "fred = Fred(api_key='30e6ecb242a73869e11cb35f6aa3afc3')\n",
    "gdp_pc = fred.get_series('A229RX0A048NBEA')"
   ]
  },
  {
   "cell_type": "code",
   "execution_count": 16,
   "metadata": {},
   "outputs": [
    {
     "ename": "NameError",
     "evalue": "name 'gdp_pc' is not defined",
     "output_type": "error",
     "traceback": [
      "\u001b[0;31m---------------------------------------------------------------------------\u001b[0m",
      "\u001b[0;31mNameError\u001b[0m                                 Traceback (most recent call last)",
      "\u001b[0;32m<ipython-input-16-d1829d7b1fc3>\u001b[0m in \u001b[0;36m<module>\u001b[0;34m()\u001b[0m\n\u001b[0;32m----> 1\u001b[0;31m \u001b[0mgdp_pc\u001b[0m\u001b[0;34m.\u001b[0m\u001b[0mplot\u001b[0m\u001b[0;34m(\u001b[0m\u001b[0mcolor\u001b[0m\u001b[0;34m=\u001b[0m\u001b[0;34m'blue'\u001b[0m\u001b[0;34m,\u001b[0m \u001b[0mfigsize\u001b[0m\u001b[0;34m=\u001b[0m\u001b[0;34m(\u001b[0m\u001b[0;36m10\u001b[0m \u001b[0;34m,\u001b[0m\u001b[0;36m8\u001b[0m\u001b[0;34m)\u001b[0m\u001b[0;34m)\u001b[0m\u001b[0;34m\u001b[0m\u001b[0m\n\u001b[0m\u001b[1;32m      2\u001b[0m \u001b[0mplt\u001b[0m\u001b[0;34m.\u001b[0m\u001b[0mtitle\u001b[0m\u001b[0;34m(\u001b[0m\u001b[0;34m'U.S. Real Income per Person (1929 - Present)'\u001b[0m\u001b[0;34m,\u001b[0m \u001b[0mfontsize\u001b[0m\u001b[0;34m=\u001b[0m\u001b[0;36m20\u001b[0m\u001b[0;34m)\u001b[0m\u001b[0;34m\u001b[0m\u001b[0m\n\u001b[1;32m      3\u001b[0m \u001b[0mplt\u001b[0m\u001b[0;34m.\u001b[0m\u001b[0mxlabel\u001b[0m\u001b[0;34m(\u001b[0m\u001b[0;34m'Date'\u001b[0m\u001b[0;34m)\u001b[0m\u001b[0;34m\u001b[0m\u001b[0m\n\u001b[1;32m      4\u001b[0m \u001b[0mplt\u001b[0m\u001b[0;34m.\u001b[0m\u001b[0mylabel\u001b[0m\u001b[0;34m(\u001b[0m\u001b[0;34m'U.S. $ (2009 Real)'\u001b[0m\u001b[0;34m,\u001b[0m \u001b[0mfontsize\u001b[0m\u001b[0;34m=\u001b[0m\u001b[0;36m16\u001b[0m\u001b[0;34m)\u001b[0m\u001b[0;34m\u001b[0m\u001b[0m\n",
      "\u001b[0;31mNameError\u001b[0m: name 'gdp_pc' is not defined"
     ]
    }
   ],
   "source": [
    "gdp_pc.plot(color='blue', figsize=(10 ,8))\n",
    "plt.title('U.S. Real Income per Person (1929 - Present)', fontsize=20)\n",
    "plt.xlabel('Date')\n",
    "plt.ylabel('U.S. $ (2009 Real)', fontsize=16)"
   ]
  },
  {
   "cell_type": "markdown",
   "metadata": {},
   "source": [
    "# Regression with Multiple Features and Diagnostics"
   ]
  },
  {
   "cell_type": "markdown",
   "metadata": {},
   "source": [
    "It is trivial to extend the single-feature linear model to a linear model that simultaneously incorporates multiple features.  The interpretation of the results of a statistical model that uses multiple features is the same the interpretation of the partial derivative from the calculus of many variables: the effect of a small change in a particular feature on a label (or outcome).  \n",
    "\n",
    "A model with $K$ features, $x_{ik}$ and label $y_i$:\n",
    "\n",
    "$y_i=\\sum_{k=1}^Kx_{ik}\\cdot\\beta_k+\\epsilon_i = x_i^\\prime \\beta + \\epsilon_i$\n",
    "\n",
    "The $K$ features $x_{ik}$ influence the label $y_i$ through the $K$-vector, $\\beta$, which we estimate statistically.  A specific partial derivative interpretation.\n",
    "\n",
    "${\\displaystyle \\frac{\\partial E(y_i)}{\\partial x_{ik}}=\\beta_k}$\n",
    "\n",
    "(For those interested in ancient history: Frisch–Waugh–Lovell theorem.)\n",
    "\n",
    "Bottom line is simple: Fit the linear model with multiple features.  The basic approach to hypothesis testing remains unchanged. The challenge is the interpretation of the results, which we will discuss in detail.  "
   ]
  },
  {
   "cell_type": "markdown",
   "metadata": {},
   "source": [
    "### Notes\n",
    "\n",
    "* We will use a curated dataset from Enigma.IO\n",
    "* DATA DICTIONARY\n",
    "    * price: Sales price in dollars\n",
    "    * unit_size: Size of dwelling in square meters\n",
    "    * land_size: Size of land on which dwelling sits in square meters\n",
    "    * age: Age of dwelling in years at sale\n",
    "    * todt: Indicator (or dummy variable) of whether a dwelling is in Todt Hill, Staten Island\n",
    "    * sales_year: Year of sale"
   ]
  },
  {
   "cell_type": "code",
   "execution_count": 17,
   "metadata": {},
   "outputs": [
    {
     "data": {
      "text/html": [
       "<div>\n",
       "<style scoped>\n",
       "    .dataframe tbody tr th:only-of-type {\n",
       "        vertical-align: middle;\n",
       "    }\n",
       "\n",
       "    .dataframe tbody tr th {\n",
       "        vertical-align: top;\n",
       "    }\n",
       "\n",
       "    .dataframe thead th {\n",
       "        text-align: right;\n",
       "    }\n",
       "</style>\n",
       "<table border=\"1\" class=\"dataframe\">\n",
       "  <thead>\n",
       "    <tr style=\"text-align: right;\">\n",
       "      <th></th>\n",
       "      <th>price</th>\n",
       "      <th>unit_size</th>\n",
       "      <th>land_size</th>\n",
       "      <th>age</th>\n",
       "      <th>todt</th>\n",
       "      <th>sales_year</th>\n",
       "    </tr>\n",
       "  </thead>\n",
       "  <tbody>\n",
       "    <tr>\n",
       "      <th>0</th>\n",
       "      <td>327500.0</td>\n",
       "      <td>142.699005</td>\n",
       "      <td>232.257507</td>\n",
       "      <td>32.0</td>\n",
       "      <td>0.0</td>\n",
       "      <td>2011.0</td>\n",
       "    </tr>\n",
       "    <tr>\n",
       "      <th>1</th>\n",
       "      <td>346314.0</td>\n",
       "      <td>195.096298</td>\n",
       "      <td>239.318130</td>\n",
       "      <td>10.0</td>\n",
       "      <td>0.0</td>\n",
       "      <td>2006.0</td>\n",
       "    </tr>\n",
       "    <tr>\n",
       "      <th>2</th>\n",
       "      <td>349830.0</td>\n",
       "      <td>179.488602</td>\n",
       "      <td>201.413712</td>\n",
       "      <td>1.0</td>\n",
       "      <td>0.0</td>\n",
       "      <td>2006.0</td>\n",
       "    </tr>\n",
       "    <tr>\n",
       "      <th>3</th>\n",
       "      <td>325000.0</td>\n",
       "      <td>174.750549</td>\n",
       "      <td>227.612350</td>\n",
       "      <td>106.0</td>\n",
       "      <td>0.0</td>\n",
       "      <td>2005.0</td>\n",
       "    </tr>\n",
       "    <tr>\n",
       "      <th>4</th>\n",
       "      <td>285000.0</td>\n",
       "      <td>97.083633</td>\n",
       "      <td>271.741272</td>\n",
       "      <td>104.0</td>\n",
       "      <td>0.0</td>\n",
       "      <td>2003.0</td>\n",
       "    </tr>\n",
       "  </tbody>\n",
       "</table>\n",
       "</div>"
      ],
      "text/plain": [
       "      price   unit_size   land_size    age  todt  sales_year\n",
       "0  327500.0  142.699005  232.257507   32.0   0.0      2011.0\n",
       "1  346314.0  195.096298  239.318130   10.0   0.0      2006.0\n",
       "2  349830.0  179.488602  201.413712    1.0   0.0      2006.0\n",
       "3  325000.0  174.750549  227.612350  106.0   0.0      2005.0\n",
       "4  285000.0   97.083633  271.741272  104.0   0.0      2003.0"
      ]
     },
     "execution_count": 17,
     "metadata": {},
     "output_type": "execute_result"
    }
   ],
   "source": [
    "sales = pd.read_stata('SI Sales.dta')\n",
    "sales.head()"
   ]
  },
  {
   "cell_type": "code",
   "execution_count": 18,
   "metadata": {},
   "outputs": [
    {
     "data": {
      "text/html": [
       "<div>\n",
       "<style scoped>\n",
       "    .dataframe tbody tr th:only-of-type {\n",
       "        vertical-align: middle;\n",
       "    }\n",
       "\n",
       "    .dataframe tbody tr th {\n",
       "        vertical-align: top;\n",
       "    }\n",
       "\n",
       "    .dataframe thead th {\n",
       "        text-align: right;\n",
       "    }\n",
       "</style>\n",
       "<table border=\"1\" class=\"dataframe\">\n",
       "  <thead>\n",
       "    <tr style=\"text-align: right;\">\n",
       "      <th></th>\n",
       "      <th>price</th>\n",
       "      <th>unit_size</th>\n",
       "      <th>land_size</th>\n",
       "      <th>age</th>\n",
       "      <th>todt</th>\n",
       "      <th>sales_year</th>\n",
       "    </tr>\n",
       "  </thead>\n",
       "  <tbody>\n",
       "    <tr>\n",
       "      <th>count</th>\n",
       "      <td>3.168000e+04</td>\n",
       "      <td>31680.000000</td>\n",
       "      <td>31680.000000</td>\n",
       "      <td>31680.000000</td>\n",
       "      <td>31680.000000</td>\n",
       "      <td>31680.000000</td>\n",
       "    </tr>\n",
       "    <tr>\n",
       "      <th>mean</th>\n",
       "      <td>4.021063e+05</td>\n",
       "      <td>161.039062</td>\n",
       "      <td>326.058075</td>\n",
       "      <td>35.846844</td>\n",
       "      <td>0.007102</td>\n",
       "      <td>2006.483643</td>\n",
       "    </tr>\n",
       "    <tr>\n",
       "      <th>std</th>\n",
       "      <td>2.395515e+05</td>\n",
       "      <td>79.404976</td>\n",
       "      <td>289.826691</td>\n",
       "      <td>31.082785</td>\n",
       "      <td>0.083977</td>\n",
       "      <td>2.765151</td>\n",
       "    </tr>\n",
       "    <tr>\n",
       "      <th>min</th>\n",
       "      <td>5.050000e+04</td>\n",
       "      <td>20.067047</td>\n",
       "      <td>24.340586</td>\n",
       "      <td>0.000000</td>\n",
       "      <td>0.000000</td>\n",
       "      <td>2003.000000</td>\n",
       "    </tr>\n",
       "    <tr>\n",
       "      <th>25%</th>\n",
       "      <td>2.919750e+05</td>\n",
       "      <td>114.456497</td>\n",
       "      <td>185.806000</td>\n",
       "      <td>9.000000</td>\n",
       "      <td>0.000000</td>\n",
       "      <td>2004.000000</td>\n",
       "    </tr>\n",
       "    <tr>\n",
       "      <th>50%</th>\n",
       "      <td>3.710000e+05</td>\n",
       "      <td>145.671906</td>\n",
       "      <td>252.696167</td>\n",
       "      <td>27.000000</td>\n",
       "      <td>0.000000</td>\n",
       "      <td>2006.000000</td>\n",
       "    </tr>\n",
       "    <tr>\n",
       "      <th>75%</th>\n",
       "      <td>4.550000e+05</td>\n",
       "      <td>184.969879</td>\n",
       "      <td>380.902313</td>\n",
       "      <td>56.000000</td>\n",
       "      <td>0.000000</td>\n",
       "      <td>2009.000000</td>\n",
       "    </tr>\n",
       "    <tr>\n",
       "      <th>max</th>\n",
       "      <td>7.700000e+06</td>\n",
       "      <td>1431.077759</td>\n",
       "      <td>10788.825195</td>\n",
       "      <td>119.000000</td>\n",
       "      <td>1.000000</td>\n",
       "      <td>2013.000000</td>\n",
       "    </tr>\n",
       "  </tbody>\n",
       "</table>\n",
       "</div>"
      ],
      "text/plain": [
       "              price     unit_size     land_size           age          todt  \\\n",
       "count  3.168000e+04  31680.000000  31680.000000  31680.000000  31680.000000   \n",
       "mean   4.021063e+05    161.039062    326.058075     35.846844      0.007102   \n",
       "std    2.395515e+05     79.404976    289.826691     31.082785      0.083977   \n",
       "min    5.050000e+04     20.067047     24.340586      0.000000      0.000000   \n",
       "25%    2.919750e+05    114.456497    185.806000      9.000000      0.000000   \n",
       "50%    3.710000e+05    145.671906    252.696167     27.000000      0.000000   \n",
       "75%    4.550000e+05    184.969879    380.902313     56.000000      0.000000   \n",
       "max    7.700000e+06   1431.077759  10788.825195    119.000000      1.000000   \n",
       "\n",
       "         sales_year  \n",
       "count  31680.000000  \n",
       "mean    2006.483643  \n",
       "std        2.765151  \n",
       "min     2003.000000  \n",
       "25%     2004.000000  \n",
       "50%     2006.000000  \n",
       "75%     2009.000000  \n",
       "max     2013.000000  "
      ]
     },
     "execution_count": 18,
     "metadata": {},
     "output_type": "execute_result"
    }
   ],
   "source": [
    "sales.describe()"
   ]
  },
  {
   "cell_type": "code",
   "execution_count": 19,
   "metadata": {},
   "outputs": [
    {
     "data": {
      "text/html": [
       "<div>\n",
       "<style scoped>\n",
       "    .dataframe tbody tr th:only-of-type {\n",
       "        vertical-align: middle;\n",
       "    }\n",
       "\n",
       "    .dataframe tbody tr th {\n",
       "        vertical-align: top;\n",
       "    }\n",
       "\n",
       "    .dataframe thead th {\n",
       "        text-align: right;\n",
       "    }\n",
       "</style>\n",
       "<table border=\"1\" class=\"dataframe\">\n",
       "  <thead>\n",
       "    <tr style=\"text-align: right;\">\n",
       "      <th></th>\n",
       "      <th>price</th>\n",
       "      <th>unit_size</th>\n",
       "      <th>land_size</th>\n",
       "      <th>age</th>\n",
       "      <th>todt</th>\n",
       "      <th>sales_year</th>\n",
       "    </tr>\n",
       "  </thead>\n",
       "  <tbody>\n",
       "    <tr>\n",
       "      <th>price</th>\n",
       "      <td>1.000000</td>\n",
       "      <td>0.549706</td>\n",
       "      <td>0.505356</td>\n",
       "      <td>-0.064088</td>\n",
       "      <td>0.352151</td>\n",
       "      <td>0.096092</td>\n",
       "    </tr>\n",
       "    <tr>\n",
       "      <th>unit_size</th>\n",
       "      <td>0.549706</td>\n",
       "      <td>1.000000</td>\n",
       "      <td>0.446105</td>\n",
       "      <td>-0.201536</td>\n",
       "      <td>0.326307</td>\n",
       "      <td>0.023416</td>\n",
       "    </tr>\n",
       "    <tr>\n",
       "      <th>land_size</th>\n",
       "      <td>0.505356</td>\n",
       "      <td>0.446105</td>\n",
       "      <td>1.000000</td>\n",
       "      <td>0.274697</td>\n",
       "      <td>0.346801</td>\n",
       "      <td>0.077402</td>\n",
       "    </tr>\n",
       "    <tr>\n",
       "      <th>age</th>\n",
       "      <td>-0.064088</td>\n",
       "      <td>-0.201536</td>\n",
       "      <td>0.274697</td>\n",
       "      <td>1.000000</td>\n",
       "      <td>0.005157</td>\n",
       "      <td>0.125040</td>\n",
       "    </tr>\n",
       "    <tr>\n",
       "      <th>todt</th>\n",
       "      <td>0.352151</td>\n",
       "      <td>0.326307</td>\n",
       "      <td>0.346801</td>\n",
       "      <td>0.005157</td>\n",
       "      <td>1.000000</td>\n",
       "      <td>0.012260</td>\n",
       "    </tr>\n",
       "    <tr>\n",
       "      <th>sales_year</th>\n",
       "      <td>0.096092</td>\n",
       "      <td>0.023416</td>\n",
       "      <td>0.077402</td>\n",
       "      <td>0.125040</td>\n",
       "      <td>0.012260</td>\n",
       "      <td>1.000000</td>\n",
       "    </tr>\n",
       "  </tbody>\n",
       "</table>\n",
       "</div>"
      ],
      "text/plain": [
       "               price  unit_size  land_size       age      todt  sales_year\n",
       "price       1.000000   0.549706   0.505356 -0.064088  0.352151    0.096092\n",
       "unit_size   0.549706   1.000000   0.446105 -0.201536  0.326307    0.023416\n",
       "land_size   0.505356   0.446105   1.000000  0.274697  0.346801    0.077402\n",
       "age        -0.064088  -0.201536   0.274697  1.000000  0.005157    0.125040\n",
       "todt        0.352151   0.326307   0.346801  0.005157  1.000000    0.012260\n",
       "sales_year  0.096092   0.023416   0.077402  0.125040  0.012260    1.000000"
      ]
     },
     "execution_count": 19,
     "metadata": {},
     "output_type": "execute_result"
    }
   ],
   "source": [
    "sales.corr()"
   ]
  },
  {
   "cell_type": "markdown",
   "metadata": {},
   "source": [
    "#### Notes\n",
    "\n",
    "* Examine the correlation patterns.\n",
    "* Prices are positively correlated with house size and land size.\n",
    "* Prices are negatively correlated with age.\n",
    "* We will talk about 'todt' below.\n",
    "* Start with simple regression we have already seen."
   ]
  },
  {
   "cell_type": "code",
   "execution_count": 20,
   "metadata": {},
   "outputs": [
    {
     "name": "stdout",
     "output_type": "stream",
     "text": [
      "                            OLS Regression Results                            \n",
      "==============================================================================\n",
      "Dep. Variable:                  price   R-squared:                       0.302\n",
      "Model:                            OLS   Adj. R-squared:                  0.302\n",
      "Method:                 Least Squares   F-statistic:                 1.372e+04\n",
      "Date:                Sat, 06 Oct 2018   Prob (F-statistic):               0.00\n",
      "Time:                        21:32:49   Log-Likelihood:            -4.3166e+05\n",
      "No. Observations:               31680   AIC:                         8.633e+05\n",
      "Df Residuals:                   31678   BIC:                         8.633e+05\n",
      "Df Model:                           1                                         \n",
      "Covariance Type:            nonrobust                                         \n",
      "==============================================================================\n",
      "                 coef    std err          t      P>|t|      [0.025      0.975]\n",
      "------------------------------------------------------------------------------\n",
      "Intercept    1.35e+05   2542.335     53.118      0.000     1.3e+05     1.4e+05\n",
      "unit_size   1658.3706     14.159    117.121      0.000    1630.618    1686.124\n",
      "==============================================================================\n",
      "Omnibus:                    51914.230   Durbin-Watson:                   1.973\n",
      "Prob(Omnibus):                  0.000   Jarque-Bera (JB):        103733692.864\n",
      "Skew:                          10.534   Prob(JB):                         0.00\n",
      "Kurtosis:                     282.539   Cond. No.                         406.\n",
      "==============================================================================\n",
      "\n",
      "Warnings:\n",
      "[1] Standard Errors assume that the covariance matrix of the errors is correctly specified.\n"
     ]
    }
   ],
   "source": [
    "mod = smf.ols(formula='price ~ unit_size', data = sales).fit()\n",
    "print(mod.summary())"
   ]
  },
  {
   "cell_type": "markdown",
   "metadata": {},
   "source": [
    "### How to intepret these results?\n",
    "\n",
    "* For every additional square meter of dwelling size, sales price is 1,658 dollars higher.\n",
    "* The t-stat is in excess of 2 in absolute value, therefore we reject the null of no or zero effect.\n",
    "* A 95% confidence interval of this effect is [1630, 1686], which excludes zero.  Therefore, we reject the null of no or zero effect.\n",
    "* Average unit size is 161 square meters, with a standard deviation of 79 square meters.  \n",
    "* Therefore, an increase of one standard deviation in dwelling size would increase the sales price by 79 * 1,658 = 130,982 dollars."
   ]
  },
  {
   "cell_type": "markdown",
   "metadata": {},
   "source": [
    "## Goodness of Fit: R$^2$\n",
    "\n",
    "Different statisical computing environments largely produce the same regression ouput, formatted differently.  This output is typically referred to as 'regression diagnosgics.'  Python's statsmodels basically mirrors the regression diagnostics produced by Stata.  We have already reviewed coefficients and their interpretation, as well as the use of standard errors, t values, and confidence intervals for hypothesis testing. \n",
    "\n",
    "The R$^2$ 'goodness of fit' metric is a frequently-cited regression diagnostic.  If a linear regression uses a constant (which should be included in practice), the R$^2$ is bounded between 0 and 1.  It measures the share of the variation in $y$ explained by the variation in the features used in a model.  Given this definition, 'bigger is better' is the first place that people go to evaluate the quality of the model, which is unwarranted.  \n",
    "\n",
    "> \"However, it can still be challenging to determine what is a good R$^2$ value, and in general, this will depend on the application.  For instance, in certain problems in physics, we may know that the data truly comes from a linear model with a small residual error.  In this case, we would expect to see an R$^2$ value that is extremely close to 1, and a substantially smaller R$^2$ might indicate serious problems with the experiment in which the data were generated.  On the other hand, in typical application in biology, pyschology, marketing and other domains, the linear model is at best an extremely rough approximation to the data, and residual errors due to other unmeasured factors are often very large.  In this setting, we would expect only a very small proportion of the variacne in the response to be explained by the predictor, and an R$^2$ value well below 0.1 might be more realistic.\"  \n",
    "Trevor Hastie, Robert Tibshirani, et al."
   ]
  },
  {
   "cell_type": "markdown",
   "metadata": {},
   "source": [
    "## Other Diagnostics to Assess Model Quality\n",
    "\n",
    "Adjusted R$^2$: A metric that captures the penalty in the use of a large number of features with little explanatory power.  \n",
    "\n",
    "AIC (the Akaike Information Criterion): a measure of the relative quality of a statistical model for a given set of data.  It captures the trade-off between the goodness of fit and the complexity of the model.  For example, if I have $N$ $(y,x)$ pairs, I could in principle fit an $N-1$ degree polynomial that passed through all points.  Such an approach, however, should be penalized because of so-called 'overfitting'.\n",
    "\n",
    "BIC (the Bayes Information Criterion): another measure of relative quality.  Rule of thumb: chose the model with the lowest BIC."
   ]
  },
  {
   "cell_type": "markdown",
   "metadata": {},
   "source": [
    "## Extend to two features\n",
    "\n",
    "* Perhaps we believe that more than one feature can simultaneously affect sales prices.\n",
    "* We can easily use multivariate regression to account for many features at once.\n",
    "* When we add an additional feature, namely the land size, we find that it has an independent effect.\n",
    "* Holding constant unit_size, an increase in land_size of one square meter independently increases the sales price by 268 dollars.\n",
    "* In addition, note that the effect of unit size on price has fallen from 1,658 to 1,221.\n",
    "* Moreover, the 95% Confidence Intervals do not overlap.\n",
    "* What does this indicate?"
   ]
  },
  {
   "cell_type": "code",
   "execution_count": null,
   "metadata": {},
   "outputs": [],
   "source": [
    "mod = smf.ols(formula='price ~ unit_size + land_size', data = sales).fit()\n",
    "print(mod.summary())"
   ]
  },
  {
   "cell_type": "markdown",
   "metadata": {},
   "source": [
    "### This is evidence of omitted variable bias (sometimes called the \"collinearity problem\")\n",
    "* Failing to include land_size has biased up the measured effect of unit_size because the two features are positively correlated.\n",
    "* The two features, however, have independent effects on sales prices.\n",
    "* In this example, we can compare the R-squared measures across the two models because one is nested in the other.  \n",
    "* We see that the R-squared rises from 0.302 to 0.387, indicating a considerable improvement in the fit of the data."
   ]
  },
  {
   "cell_type": "markdown",
   "metadata": {},
   "source": [
    "### More features\n",
    "* Now let's examine what happens when we account for the age of the dwelling at the date of sale.\n",
    "* Thoughts about how age might affect sales prices?\n",
    "* Negative impact: old houses (of equal size) have lower sales prices.\n",
    "* Note, however, that there is little impact on the effects of the other features when we add age to the model."
   ]
  },
  {
   "cell_type": "code",
   "execution_count": null,
   "metadata": {},
   "outputs": [],
   "source": [
    "mod = smf.ols(formula='price ~ unit_size + land_size + age', data = sales).fit()\n",
    "print(mod.summary())"
   ]
  },
  {
   "cell_type": "markdown",
   "metadata": {},
   "source": [
    "### Indicator Variables: Supervised to Semi-supervised\n",
    "\n",
    "* Indicator variables capture potential 'discontinuities'.\n",
    "* CUSP's MOM (Christine) told me that Todt Hill is an upscale area in Staten Island.\n",
    "* Suppose we want to capture this feature of the data, which we can do using the indicator \"todt\". \n",
    "* 3.574e+05 = 357,400 dollar premium in Todt Hill$"
   ]
  },
  {
   "cell_type": "code",
   "execution_count": null,
   "metadata": {},
   "outputs": [],
   "source": [
    "mod = smf.ols(formula='price ~ unit_size + land_size + age + todt', data = sales).fit()\n",
    "print(mod.summary())"
   ]
  },
  {
   "cell_type": "markdown",
   "metadata": {},
   "source": [
    "### Scaling of data\n",
    "* Suppose we wanted to rescale the sales prices because they are measured in dollars (and are large).\n",
    "* Rescale the label by dividing by 1000.\n",
    "* This rescaling changes nothing other than how we express the results.  For example, we have more signigicant digits on the 'todt' indicator, 357,431 dollar premium."
   ]
  },
  {
   "cell_type": "code",
   "execution_count": null,
   "metadata": {},
   "outputs": [],
   "source": [
    "sales['priceper1000'] = sales['price']/1000\n",
    "sales.head()"
   ]
  },
  {
   "cell_type": "code",
   "execution_count": null,
   "metadata": {},
   "outputs": [],
   "source": [
    "mod = smf.ols(formula='priceper1000 ~ unit_size + land_size + age + todt', data = sales).fit()\n",
    "print(mod.summary())"
   ]
  },
  {
   "cell_type": "markdown",
   "metadata": {},
   "source": [
    "### Introducing Non-Linearities to the Linear Model\n",
    "\n",
    "* Suppose we want to consider the potential of non-linearities in $y=f(x)$.\n",
    "* We can use the linear model to do so, but must consider the calculus behind it.\n",
    "* One conjecture is that age has a diminishing effect on sales prices.\n",
    "* How to capture this conjecture?"
   ]
  },
  {
   "cell_type": "code",
   "execution_count": null,
   "metadata": {
    "collapsed": true
   },
   "outputs": [],
   "source": [
    "sales['age2'] = sales['age'] ** 2"
   ]
  },
  {
   "cell_type": "code",
   "execution_count": null,
   "metadata": {},
   "outputs": [],
   "source": [
    "mod = smf.ols(formula='price ~ unit_size + land_size + age + age2 + todt', data = sales).fit()\n",
    "print(mod.summary())"
   ]
  },
  {
   "cell_type": "markdown",
   "metadata": {},
   "source": [
    "### How to Interpret?\n",
    "\n",
    "A model with $K$ features, $x_{ik}$ and label $y_i$: $y_i=\\sum_{k=1}^Kx_{ik}\\cdot\\beta_k+\\epsilon_i = x_i^\\prime \\beta + \\epsilon_i$\n",
    "\n",
    "$\\frac{\\partial{E(y_i})}{\\partial{x_{ik}}}=\\hat{\\beta_k}$\n",
    "\n",
    "$\\frac{\\partial{E(\\text{sales price}})}{\\partial{\\text{age}}}=\\hat{\\beta_\\text{age}} + 2\\cdot\\hat{\\beta_\\text{age2}}\\cdot{\\text{age}} = 997 - 2\\cdot17\\cdot\\text{age} = 997 - 34\\cdot\\text{age}$\n",
    "\n",
    "The average age of a house in our data is 36 years, so $997 - 34*36 = 997 - 1224 = -227$.  Therefore, when a house hits its average age, its value is declining every year.  \n",
    "\n",
    "Indeed, we can solve the simple algebra problem, $997 - 34*age = 0$, for age to obtain $\\text{age}\\approx29$.  For the first 29 years, house prices on average rise for each year, and then begin to decline for subsequent years."
   ]
  },
  {
   "cell_type": "markdown",
   "metadata": {},
   "source": [
    "### Feature Engineering: Elasticities\n",
    "\n",
    "* It may be of use to engineer your features so that results are unit free.\n",
    "* The interpretation is: for at 1% change in the feature, what is the % change in the label.\n",
    "* This can be achieved by tranforming the feature and labels using logarithms."
   ]
  },
  {
   "cell_type": "code",
   "execution_count": null,
   "metadata": {
    "collapsed": true
   },
   "outputs": [],
   "source": [
    "sales['logprice'] = np.log(sales['price'])\n",
    "sales['logunit'] = np.log(sales['unit_size'])\n",
    "sales['logland'] = np.log(sales['land_size'])\n",
    "sales['logage'] = np.log(sales['age']+1)"
   ]
  },
  {
   "cell_type": "code",
   "execution_count": null,
   "metadata": {},
   "outputs": [],
   "source": [
    "mod = smf.ols(formula='logprice ~ logunit + logland + logage + todt', data = sales).fit()\n",
    "print(mod.summary())"
   ]
  },
  {
   "cell_type": "markdown",
   "metadata": {},
   "source": [
    "* A 10% change in unit size increases sales price by 3.4%.\n",
    "* A 10% change in land size increases sales price by 2.6%.\n",
    "* A 10% change in age decreases sales prices by 0.5%.\n",
    "* Prices in Todt Hill are about 44% higher holding all else constant.\n",
    "* Is this model directly comparable to the one above?\n",
    "* No because we non-linearly transformed both the label and the features."
   ]
  },
  {
   "cell_type": "markdown",
   "metadata": {},
   "source": [
    "### Feature Engineeing: Orthonormalization (Mean Zero, Variance One Data)"
   ]
  },
  {
   "cell_type": "code",
   "execution_count": null,
   "metadata": {},
   "outputs": [],
   "source": [
    "sales = pd.read_stata('SI Sales.dta')\n",
    "sales.describe()"
   ]
  },
  {
   "cell_type": "markdown",
   "metadata": {},
   "source": [
    "#### Notes\n",
    "\n",
    "* This can be done variable by variable.\n",
    "* We could apply this to the entire dataframe, but typically we don't orthonormalize indicatory variables.\n",
    "* sales = (sales - sales.mean()) / sales.std()"
   ]
  },
  {
   "cell_type": "code",
   "execution_count": null,
   "metadata": {
    "collapsed": true
   },
   "outputs": [],
   "source": [
    "sales['price'] = (sales['price'] - sales['price'].mean()) / sales['price'].std()\n",
    "sales['unit_size'] = (sales['unit_size'] - sales['unit_size'].mean()) / sales['unit_size'].std()\n",
    "sales['land_size'] = (sales['land_size'] - sales['land_size'].mean()) / sales['land_size'].std()\n",
    "sales['age'] = (sales['age'] - sales['age'].mean()) / sales['age'].std()"
   ]
  },
  {
   "cell_type": "code",
   "execution_count": null,
   "metadata": {},
   "outputs": [],
   "source": [
    "sales.describe()"
   ]
  },
  {
   "cell_type": "code",
   "execution_count": null,
   "metadata": {},
   "outputs": [],
   "source": [
    "mod = smf.ols(formula='price ~ unit_size + land_size + age + todt', data = sales).fit()\n",
    "print(mod.summary())"
   ]
  },
  {
   "cell_type": "markdown",
   "metadata": {},
   "source": [
    "* A one standard deviation increase in unit size increases sales price by 0.34.\n",
    "* A one standard deviation increase in land size increases sales price by 0.33.\n",
    "* A one standard deviation increase in age decreases sales price by 0.09.\n",
    "* Prices in Todt Hill are about 50% higher."
   ]
  },
  {
   "cell_type": "markdown",
   "metadata": {},
   "source": [
    "## Another Application: The Reutrns to Education"
   ]
  },
  {
   "cell_type": "markdown",
   "metadata": {},
   "source": [
    "### Overview: The Early Days\n",
    "\n",
    "> “Those talents, as they make a part of his fortune, so do they likewise that of the society to which he belongs. The improved dexterity of a workman may be considered in the same light as a machine or instrument of trade which facilitates and abridges labor, and which, though it costs a certain expense, repays that expense with a profit.”  \n",
    "Adam Smith, The Wealth of Nations"
   ]
  },
  {
   "cell_type": "markdown",
   "metadata": {},
   "source": [
    "### Human Capital Theory\n",
    "\n",
    "+ Human capital (as opposed to physical or financial capital) comprises the abilities, knowledge, education, and other attributes that individuals bring to the labor market.\n",
    "+ In exchange for their labor to produce economic value in the marketplace, individuals receive wages (or earnings).\n",
    "+ Strong focus on the development of capital through education and workforce experience. "
   ]
  },
  {
   "cell_type": "markdown",
   "metadata": {},
   "source": [
    "### Education: Skill or Signal?\n",
    "\n",
    "+ One idea is that education increases an individual’s skill, allowing her to capture a higher rents in the labor market.  In other words, higher education increases earings.\n",
    "+ A separate idea is that education is simply a signal to potential employers about one’s unobservable skill and potential dedication.\n",
    "    - Places of higher education also allow people to tap into networks to aid in employment (such as MBAs)."
   ]
  },
  {
   "cell_type": "markdown",
   "metadata": {},
   "source": [
    "### Wages\n",
    "\n",
    "+ Economist Jacob Mincer specified an approach that relates observed wages to schooling and other measures of human capital, such as job market experience. \n",
    "+ Relation is typically expressed as the natural log of wages.  Wages are not normally distributed (no negative wages), but rather could be log-normally distributed.\n",
    "    - $ln(1+r) ≈ r$ for small $r$, so regression estimates can be viewed as rates of return."
   ]
  },
  {
   "cell_type": "code",
   "execution_count": null,
   "metadata": {},
   "outputs": [],
   "source": [
    "print(np.log(1+0.01))"
   ]
  },
  {
   "cell_type": "markdown",
   "metadata": {},
   "source": [
    "### The Returns to Education\n",
    "\n",
    "* Goal is measure the 'rate of return' to education.\n",
    "* Increase, if any, in earnings associated with an additional year of education.\n",
    "* A simple correlation of wages and years of schooling does not necessarily accurately measure this relation.\n",
    "    * Could do randomized trials, but substantial ethical objections.\n",
    "* Let’s look at the Griliches (1979) data.\n",
    "    * Paper is here: https://athens.src.uchicago.edu/jenni/dvmaster/FILES/griliches77f.pdf"
   ]
  },
  {
   "cell_type": "code",
   "execution_count": null,
   "metadata": {
    "collapsed": true
   },
   "outputs": [],
   "source": [
    "griliches = pd.read_csv(\"https://vincentarelbundock.github.io/Rdatasets/csv/Ecdat/Griliches.csv\")\n",
    "griliches = griliches.drop(griliches.columns[0], 1)\n",
    "griliches = griliches[['lw', 'school', 'iq', 'age', 'expr', 'tenure', 'med']]"
   ]
  },
  {
   "cell_type": "markdown",
   "metadata": {},
   "source": [
    "### DATA DICTIONARY\n",
    "* lw: the log of 1980 earnings per hour.\n",
    "* school: years of schooling.\n",
    "* iq: Measured IQ.\n",
    "* age: age at time of measurement.\n",
    "* expr: total job market experience.\n",
    "* tenure: length of time on current job.\n",
    "* med: mother's level of education. "
   ]
  },
  {
   "cell_type": "markdown",
   "metadata": {},
   "source": [
    "### Regression Exercise\n",
    "\n",
    "Using the Griliches data, summarize the data and display a correlation matrix.  Examine how earings vary with schooling, 'intelligence', age, workplace experiemce, tenure on the current job, and mother's education."
   ]
  },
  {
   "cell_type": "code",
   "execution_count": null,
   "metadata": {},
   "outputs": [],
   "source": [
    "griliches.describe()"
   ]
  },
  {
   "cell_type": "code",
   "execution_count": null,
   "metadata": {},
   "outputs": [],
   "source": [
    "griliches.corr()"
   ]
  },
  {
   "cell_type": "code",
   "execution_count": null,
   "metadata": {},
   "outputs": [],
   "source": [
    "plt.figure(figsize = (10, 8))\n",
    "plt.scatter(griliches['school'], griliches['lw'], c='b')\n",
    "plt.xlabel('Years of Education')\n",
    "plt.ylabel('Wages')\n",
    "plt.title('Wages versus Education', fontsize = 20)"
   ]
  },
  {
   "cell_type": "code",
   "execution_count": null,
   "metadata": {},
   "outputs": [],
   "source": [
    "plt.figure(figsize = (10, 8))\n",
    "plt.scatter(griliches['age'], griliches['lw'], c='b')\n",
    "plt.xlabel('Age')\n",
    "plt.ylabel('Wages')\n",
    "plt.title('Wages versus Age', fontsize=20)"
   ]
  },
  {
   "cell_type": "code",
   "execution_count": null,
   "metadata": {},
   "outputs": [],
   "source": [
    "plt.figure(figsize = (10, 8))\n",
    "plt.scatter(griliches['iq'], griliches['lw'], c='b')\n",
    "plt.xlabel('IQ')\n",
    "plt.ylabel('Wages')\n",
    "plt.title('Wages versus IQ', fontsize=20)"
   ]
  },
  {
   "cell_type": "code",
   "execution_count": null,
   "metadata": {},
   "outputs": [],
   "source": [
    "plt.figure(figsize = (10, 8))\n",
    "plt.scatter(griliches['med'], griliches['lw'], c='b')\n",
    "plt.xlabel('Education of Mother')\n",
    "plt.ylabel('Wages')\n",
    "plt.title('Wages versus Education of Mother', fontsize=20)"
   ]
  },
  {
   "cell_type": "code",
   "execution_count": null,
   "metadata": {},
   "outputs": [],
   "source": [
    "mod = smf.ols(formula = 'lw ~ school + iq + age + expr + tenure + med', data = griliches).fit()\n",
    "print(mod.summary())"
   ]
  },
  {
   "cell_type": "markdown",
   "metadata": {},
   "source": [
    "### What's a Lousy 5% Return?"
   ]
  },
  {
   "cell_type": "code",
   "execution_count": null,
   "metadata": {
    "collapsed": true
   },
   "outputs": [],
   "source": [
    "start, end = datetime.datetime(2008, 6, 30), datetime.datetime(2018, 6, 30)\n",
    "ten_year = web.DataReader('WGS10YR', 'fred', start, end)"
   ]
  },
  {
   "cell_type": "code",
   "execution_count": null,
   "metadata": {},
   "outputs": [],
   "source": [
    "plt.figure(figsize = (10, 8))\n",
    "plt.plot(ten_year, c='b')\n",
    "plt.ylabel('%')\n",
    "plt.ylim(0, 6.0)\n",
    "plt.title('10 Years of 10-Year U.S. Treasurys', fontsize=20)\n",
    "plt.axhline(5, color = 'red')"
   ]
  },
  {
   "cell_type": "markdown",
   "metadata": {},
   "source": [
    "## An Introduction to Principal Components Analysis (PCA)"
   ]
  },
  {
   "cell_type": "markdown",
   "metadata": {},
   "source": [
    "* Frequently, we wish examine variability with a minimal number of features.  \n",
    "* PCA is a step in that direction.\n",
    "* We will use the PCA algorithm from Scikit, which may require the use of arrays rather than dataframes.\n",
    "    * Even if not, a useful exercise."
   ]
  },
  {
   "cell_type": "markdown",
   "metadata": {},
   "source": [
    "### A Matrix\n",
    "\n",
    "An $(m \\times n)$ matrix is an array of numbers ordered into $m$ rows and $n$ columns.\n",
    "\n",
    "${\\displaystyle A = \\begin{bmatrix}\n",
    "a_{11} & a_{12} & ... & a_{1n} \\\\\n",
    "a_{21} & a_{22} & ... & a_{2n} \\\\\n",
    "... & ... & ... & ... \\\\\n",
    "a_{m1} & a_{m2} & ... & a_{mn} \n",
    "\\end{bmatrix}}$\n",
    "\n",
    "If $m=1$, then A is row vector with dimension $1 \\times n$.  \n",
    "\n",
    "If $n=1$, then A is a column vector with dimension $m \\times 1$.\n",
    "\n",
    "If $n=m=1$, then A is a scalar.\n",
    "\n",
    "If $m=n$, then A is said to be a square matrix with dimension $n \\times n$.\n",
    "\n",
    "If all of the off-diagonal elements, $a_{ij} \\text{, } i\\ne j$, are $0$, then the square matrix is said to be diagonal.\n",
    "\n",
    "An important square matrix is the identity matrix, $I_n = {\\displaystyle \\begin{bmatrix}\n",
    "1 & 0 & ... & 0 \\\\\n",
    "0 & 1 & ... & 0 \\\\\n",
    "... & ... & ... & ... \\\\\n",
    "0 & 0 & ... & 1 \\end{bmatrix}}$"
   ]
  },
  {
   "cell_type": "markdown",
   "metadata": {},
   "source": [
    "### Regression as Projection\n",
    "\n",
    "One can transpose a matrix, such that if $A$ is $(m \\times n)$ then $A ^\\prime$ is $(n \\times m)$.  Sometimes a $^T$ is used to denote a transpose.  \n",
    "\n",
    "Under most circumstances, one can invert a square matrix, such that $A \\times A^{-1} = I_n$.\n",
    "\n",
    "The following multiplication is possible for a matrix $X$ of any dimension, $(m \\times n)$, $X ^\\prime X$.  The $X ^\\prime X$ matrix is square of dimension $(n \\times n)$, and under most circumstances can be inverted.  \n",
    "\n",
    "Let $y$ be $(n \\times 1)$, $X$ be $(n \\times k)$.  The linear system, $y_i=\\sum_{k=1}^Kx_{ik}\\cdot\\beta_k+\\epsilon_i = x_i^\\prime \\beta + \\epsilon_i$, where $\\beta$ is unknown, can be solved as $\\hat{\\beta} = (X ^\\prime X)^{-1}X ^\\prime y$.\n",
    "\n",
    "The predictor is, thereore, $\\hat{y} = X\\hat{\\beta} = X(X ^\\prime X)^{-1}X ^\\prime y$, and $X(X ^\\prime X)^{-1}X ^\\prime$ is said to be the projection matrix of dimension $(n \\times n)$.\n",
    "\n",
    "Through the use of eigenvalues and eigenvectors, which are concepts in linear algebra that describe the projection matrix, PCA seeks to reduce the number of features necessary to explain the variability in $y$."
   ]
  },
  {
   "cell_type": "code",
   "execution_count": null,
   "metadata": {
    "collapsed": true
   },
   "outputs": [],
   "source": [
    "from sklearn.decomposition import PCA"
   ]
  },
  {
   "cell_type": "code",
   "execution_count": null,
   "metadata": {
    "collapsed": true
   },
   "outputs": [],
   "source": [
    "X = np.array(griliches[['school', 'iq', 'age', 'expr', 'tenure', 'med']])\n",
    "y = np.array(griliches['lw'])"
   ]
  },
  {
   "cell_type": "code",
   "execution_count": null,
   "metadata": {},
   "outputs": [],
   "source": [
    "# How do these arrays appear?\n",
    "\n",
    "X, y"
   ]
  },
  {
   "cell_type": "code",
   "execution_count": null,
   "metadata": {},
   "outputs": [],
   "source": [
    "pca = PCA(n_components=6)\n",
    "pca.fit(X, y)\n",
    "print(pca.explained_variance_ratio_)"
   ]
  },
  {
   "cell_type": "markdown",
   "metadata": {},
   "source": [
    "### One feature explains a large share of the variability in earnings according to PCA for the features included in the PCA.\n",
    "\n",
    "* Which one?\n",
    "* Stayed tuned."
   ]
  }
 ],
 "metadata": {
  "kernelspec": {
   "display_name": "best",
   "language": "python",
   "name": "best"
  },
  "language_info": {
   "codemirror_mode": {
    "name": "ipython",
    "version": 3
   },
   "file_extension": ".py",
   "mimetype": "text/x-python",
   "name": "python",
   "nbconvert_exporter": "python",
   "pygments_lexer": "ipython3",
   "version": "3.6.6"
  }
 },
 "nbformat": 4,
 "nbformat_minor": 2
}
